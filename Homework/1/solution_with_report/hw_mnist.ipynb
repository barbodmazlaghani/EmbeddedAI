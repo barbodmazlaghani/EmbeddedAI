{
  "cells": [
    {
      "cell_type": "code",
      "source": [
        "!pip install tensorflow==2.10.0\n",
        "!pip install tensorflow-gpu==2.10.0\n",
        "!pip install tensorflow-datasets==4.8.3\n",
        "!pip install opencv-python==4.8.1.78\n",
        "!pip install QKeras==0.9.0\n",
        "!pip install matplotlib==3.7.2"
      ],
      "metadata": {
        "colab": {
          "base_uri": "https://localhost:8080/",
          "height": 1000
        },
        "id": "oqwWeBqwIoY8",
        "outputId": "b026ea8f-503c-405b-b23d-e4eaeb8fb59a"
      },
      "execution_count": null,
      "outputs": [
        {
          "output_type": "stream",
          "name": "stdout",
          "text": [
            "Collecting tensorflow==2.10.0\n",
            "  Downloading tensorflow-2.10.0-cp310-cp310-manylinux_2_17_x86_64.manylinux2014_x86_64.whl (578.0 MB)\n",
            "\u001b[2K     \u001b[90m━━━━━━━━━━━━━━━━━━━━━━━━━━━━━━━━━━━━━━━━\u001b[0m \u001b[32m578.0/578.0 MB\u001b[0m \u001b[31m2.0 MB/s\u001b[0m eta \u001b[36m0:00:00\u001b[0m\n",
            "\u001b[?25hRequirement already satisfied: absl-py>=1.0.0 in /usr/local/lib/python3.10/dist-packages (from tensorflow==2.10.0) (1.4.0)\n",
            "Requirement already satisfied: astunparse>=1.6.0 in /usr/local/lib/python3.10/dist-packages (from tensorflow==2.10.0) (1.6.3)\n",
            "Requirement already satisfied: flatbuffers>=2.0 in /usr/local/lib/python3.10/dist-packages (from tensorflow==2.10.0) (23.5.26)\n",
            "Requirement already satisfied: gast<=0.4.0,>=0.2.1 in /usr/local/lib/python3.10/dist-packages (from tensorflow==2.10.0) (0.4.0)\n",
            "Requirement already satisfied: google-pasta>=0.1.1 in /usr/local/lib/python3.10/dist-packages (from tensorflow==2.10.0) (0.2.0)\n",
            "Requirement already satisfied: grpcio<2.0,>=1.24.3 in /usr/local/lib/python3.10/dist-packages (from tensorflow==2.10.0) (1.59.0)\n",
            "Requirement already satisfied: h5py>=2.9.0 in /usr/local/lib/python3.10/dist-packages (from tensorflow==2.10.0) (3.9.0)\n",
            "Collecting keras<2.11,>=2.10.0 (from tensorflow==2.10.0)\n",
            "  Downloading keras-2.10.0-py2.py3-none-any.whl (1.7 MB)\n",
            "\u001b[2K     \u001b[90m━━━━━━━━━━━━━━━━━━━━━━━━━━━━━━━━━━━━━━━━\u001b[0m \u001b[32m1.7/1.7 MB\u001b[0m \u001b[31m60.0 MB/s\u001b[0m eta \u001b[36m0:00:00\u001b[0m\n",
            "\u001b[?25hCollecting keras-preprocessing>=1.1.1 (from tensorflow==2.10.0)\n",
            "  Downloading Keras_Preprocessing-1.1.2-py2.py3-none-any.whl (42 kB)\n",
            "\u001b[2K     \u001b[90m━━━━━━━━━━━━━━━━━━━━━━━━━━━━━━━━━━━━━━━━\u001b[0m \u001b[32m42.6/42.6 kB\u001b[0m \u001b[31m4.5 MB/s\u001b[0m eta \u001b[36m0:00:00\u001b[0m\n",
            "\u001b[?25hRequirement already satisfied: libclang>=13.0.0 in /usr/local/lib/python3.10/dist-packages (from tensorflow==2.10.0) (16.0.6)\n",
            "Requirement already satisfied: numpy>=1.20 in /usr/local/lib/python3.10/dist-packages (from tensorflow==2.10.0) (1.23.5)\n",
            "Requirement already satisfied: opt-einsum>=2.3.2 in /usr/local/lib/python3.10/dist-packages (from tensorflow==2.10.0) (3.3.0)\n",
            "Requirement already satisfied: packaging in /usr/local/lib/python3.10/dist-packages (from tensorflow==2.10.0) (23.2)\n",
            "Collecting protobuf<3.20,>=3.9.2 (from tensorflow==2.10.0)\n",
            "  Downloading protobuf-3.19.6-cp310-cp310-manylinux_2_17_x86_64.manylinux2014_x86_64.whl (1.1 MB)\n",
            "\u001b[2K     \u001b[90m━━━━━━━━━━━━━━━━━━━━━━━━━━━━━━━━━━━━━━━━\u001b[0m \u001b[32m1.1/1.1 MB\u001b[0m \u001b[31m48.0 MB/s\u001b[0m eta \u001b[36m0:00:00\u001b[0m\n",
            "\u001b[?25hRequirement already satisfied: setuptools in /usr/local/lib/python3.10/dist-packages (from tensorflow==2.10.0) (67.7.2)\n",
            "Requirement already satisfied: six>=1.12.0 in /usr/local/lib/python3.10/dist-packages (from tensorflow==2.10.0) (1.16.0)\n",
            "Collecting tensorboard<2.11,>=2.10 (from tensorflow==2.10.0)\n",
            "  Downloading tensorboard-2.10.1-py3-none-any.whl (5.9 MB)\n",
            "\u001b[2K     \u001b[90m━━━━━━━━━━━━━━━━━━━━━━━━━━━━━━━━━━━━━━━━\u001b[0m \u001b[32m5.9/5.9 MB\u001b[0m \u001b[31m36.5 MB/s\u001b[0m eta \u001b[36m0:00:00\u001b[0m\n",
            "\u001b[?25hRequirement already satisfied: tensorflow-io-gcs-filesystem>=0.23.1 in /usr/local/lib/python3.10/dist-packages (from tensorflow==2.10.0) (0.34.0)\n",
            "Collecting tensorflow-estimator<2.11,>=2.10.0 (from tensorflow==2.10.0)\n",
            "  Downloading tensorflow_estimator-2.10.0-py2.py3-none-any.whl (438 kB)\n",
            "\u001b[2K     \u001b[90m━━━━━━━━━━━━━━━━━━━━━━━━━━━━━━━━━━━━━━━━\u001b[0m \u001b[32m438.7/438.7 kB\u001b[0m \u001b[31m34.1 MB/s\u001b[0m eta \u001b[36m0:00:00\u001b[0m\n",
            "\u001b[?25hRequirement already satisfied: termcolor>=1.1.0 in /usr/local/lib/python3.10/dist-packages (from tensorflow==2.10.0) (2.3.0)\n",
            "Requirement already satisfied: typing-extensions>=3.6.6 in /usr/local/lib/python3.10/dist-packages (from tensorflow==2.10.0) (4.5.0)\n",
            "Requirement already satisfied: wrapt>=1.11.0 in /usr/local/lib/python3.10/dist-packages (from tensorflow==2.10.0) (1.15.0)\n",
            "Requirement already satisfied: wheel<1.0,>=0.23.0 in /usr/local/lib/python3.10/dist-packages (from astunparse>=1.6.0->tensorflow==2.10.0) (0.41.2)\n",
            "Requirement already satisfied: google-auth<3,>=1.6.3 in /usr/local/lib/python3.10/dist-packages (from tensorboard<2.11,>=2.10->tensorflow==2.10.0) (2.17.3)\n",
            "Collecting google-auth-oauthlib<0.5,>=0.4.1 (from tensorboard<2.11,>=2.10->tensorflow==2.10.0)\n",
            "  Downloading google_auth_oauthlib-0.4.6-py2.py3-none-any.whl (18 kB)\n",
            "Requirement already satisfied: markdown>=2.6.8 in /usr/local/lib/python3.10/dist-packages (from tensorboard<2.11,>=2.10->tensorflow==2.10.0) (3.5)\n",
            "Requirement already satisfied: requests<3,>=2.21.0 in /usr/local/lib/python3.10/dist-packages (from tensorboard<2.11,>=2.10->tensorflow==2.10.0) (2.31.0)\n",
            "Collecting tensorboard-data-server<0.7.0,>=0.6.0 (from tensorboard<2.11,>=2.10->tensorflow==2.10.0)\n",
            "  Downloading tensorboard_data_server-0.6.1-py3-none-manylinux2010_x86_64.whl (4.9 MB)\n",
            "\u001b[2K     \u001b[90m━━━━━━━━━━━━━━━━━━━━━━━━━━━━━━━━━━━━━━━━\u001b[0m \u001b[32m4.9/4.9 MB\u001b[0m \u001b[31m34.9 MB/s\u001b[0m eta \u001b[36m0:00:00\u001b[0m\n",
            "\u001b[?25hCollecting tensorboard-plugin-wit>=1.6.0 (from tensorboard<2.11,>=2.10->tensorflow==2.10.0)\n",
            "  Downloading tensorboard_plugin_wit-1.8.1-py3-none-any.whl (781 kB)\n",
            "\u001b[2K     \u001b[90m━━━━━━━━━━━━━━━━━━━━━━━━━━━━━━━━━━━━━━━━\u001b[0m \u001b[32m781.3/781.3 kB\u001b[0m \u001b[31m42.7 MB/s\u001b[0m eta \u001b[36m0:00:00\u001b[0m\n",
            "\u001b[?25hRequirement already satisfied: werkzeug>=1.0.1 in /usr/local/lib/python3.10/dist-packages (from tensorboard<2.11,>=2.10->tensorflow==2.10.0) (3.0.0)\n",
            "Requirement already satisfied: cachetools<6.0,>=2.0.0 in /usr/local/lib/python3.10/dist-packages (from google-auth<3,>=1.6.3->tensorboard<2.11,>=2.10->tensorflow==2.10.0) (5.3.1)\n",
            "Requirement already satisfied: pyasn1-modules>=0.2.1 in /usr/local/lib/python3.10/dist-packages (from google-auth<3,>=1.6.3->tensorboard<2.11,>=2.10->tensorflow==2.10.0) (0.3.0)\n",
            "Requirement already satisfied: rsa<5,>=3.1.4 in /usr/local/lib/python3.10/dist-packages (from google-auth<3,>=1.6.3->tensorboard<2.11,>=2.10->tensorflow==2.10.0) (4.9)\n",
            "Requirement already satisfied: requests-oauthlib>=0.7.0 in /usr/local/lib/python3.10/dist-packages (from google-auth-oauthlib<0.5,>=0.4.1->tensorboard<2.11,>=2.10->tensorflow==2.10.0) (1.3.1)\n",
            "Requirement already satisfied: charset-normalizer<4,>=2 in /usr/local/lib/python3.10/dist-packages (from requests<3,>=2.21.0->tensorboard<2.11,>=2.10->tensorflow==2.10.0) (3.3.0)\n",
            "Requirement already satisfied: idna<4,>=2.5 in /usr/local/lib/python3.10/dist-packages (from requests<3,>=2.21.0->tensorboard<2.11,>=2.10->tensorflow==2.10.0) (3.4)\n",
            "Requirement already satisfied: urllib3<3,>=1.21.1 in /usr/local/lib/python3.10/dist-packages (from requests<3,>=2.21.0->tensorboard<2.11,>=2.10->tensorflow==2.10.0) (2.0.7)\n",
            "Requirement already satisfied: certifi>=2017.4.17 in /usr/local/lib/python3.10/dist-packages (from requests<3,>=2.21.0->tensorboard<2.11,>=2.10->tensorflow==2.10.0) (2023.7.22)\n",
            "Requirement already satisfied: MarkupSafe>=2.1.1 in /usr/local/lib/python3.10/dist-packages (from werkzeug>=1.0.1->tensorboard<2.11,>=2.10->tensorflow==2.10.0) (2.1.3)\n",
            "Requirement already satisfied: pyasn1<0.6.0,>=0.4.6 in /usr/local/lib/python3.10/dist-packages (from pyasn1-modules>=0.2.1->google-auth<3,>=1.6.3->tensorboard<2.11,>=2.10->tensorflow==2.10.0) (0.5.0)\n",
            "Requirement already satisfied: oauthlib>=3.0.0 in /usr/local/lib/python3.10/dist-packages (from requests-oauthlib>=0.7.0->google-auth-oauthlib<0.5,>=0.4.1->tensorboard<2.11,>=2.10->tensorflow==2.10.0) (3.2.2)\n",
            "Installing collected packages: tensorboard-plugin-wit, keras, tensorflow-estimator, tensorboard-data-server, protobuf, keras-preprocessing, google-auth-oauthlib, tensorboard, tensorflow\n",
            "  Attempting uninstall: keras\n",
            "    Found existing installation: keras 2.13.1\n",
            "    Uninstalling keras-2.13.1:\n",
            "      Successfully uninstalled keras-2.13.1\n",
            "  Attempting uninstall: tensorflow-estimator\n",
            "    Found existing installation: tensorflow-estimator 2.13.0\n",
            "    Uninstalling tensorflow-estimator-2.13.0:\n",
            "      Successfully uninstalled tensorflow-estimator-2.13.0\n",
            "  Attempting uninstall: tensorboard-data-server\n",
            "    Found existing installation: tensorboard-data-server 0.7.1\n",
            "    Uninstalling tensorboard-data-server-0.7.1:\n",
            "      Successfully uninstalled tensorboard-data-server-0.7.1\n",
            "  Attempting uninstall: protobuf\n",
            "    Found existing installation: protobuf 3.20.3\n",
            "    Uninstalling protobuf-3.20.3:\n",
            "      Successfully uninstalled protobuf-3.20.3\n",
            "  Attempting uninstall: google-auth-oauthlib\n",
            "    Found existing installation: google-auth-oauthlib 1.0.0\n",
            "    Uninstalling google-auth-oauthlib-1.0.0:\n",
            "      Successfully uninstalled google-auth-oauthlib-1.0.0\n",
            "  Attempting uninstall: tensorboard\n",
            "    Found existing installation: tensorboard 2.13.0\n",
            "    Uninstalling tensorboard-2.13.0:\n",
            "      Successfully uninstalled tensorboard-2.13.0\n",
            "  Attempting uninstall: tensorflow\n",
            "    Found existing installation: tensorflow 2.13.0\n",
            "    Uninstalling tensorflow-2.13.0:\n",
            "      Successfully uninstalled tensorflow-2.13.0\n",
            "\u001b[31mERROR: pip's dependency resolver does not currently take into account all the packages that are installed. This behaviour is the source of the following dependency conflicts.\n",
            "tensorflow-datasets 4.9.3 requires protobuf>=3.20, but you have protobuf 3.19.6 which is incompatible.\n",
            "tensorflow-metadata 1.14.0 requires protobuf<4.21,>=3.20.3, but you have protobuf 3.19.6 which is incompatible.\u001b[0m\u001b[31m\n",
            "\u001b[0mSuccessfully installed google-auth-oauthlib-0.4.6 keras-2.10.0 keras-preprocessing-1.1.2 protobuf-3.19.6 tensorboard-2.10.1 tensorboard-data-server-0.6.1 tensorboard-plugin-wit-1.8.1 tensorflow-2.10.0 tensorflow-estimator-2.10.0\n"
          ]
        },
        {
          "output_type": "display_data",
          "data": {
            "application/vnd.colab-display-data+json": {
              "pip_warning": {
                "packages": [
                  "google"
                ]
              }
            }
          },
          "metadata": {}
        },
        {
          "output_type": "stream",
          "name": "stdout",
          "text": [
            "Collecting tensorflow-gpu==2.10.0\n",
            "  Downloading tensorflow_gpu-2.10.0-cp310-cp310-manylinux_2_17_x86_64.manylinux2014_x86_64.whl (578.0 MB)\n",
            "\u001b[2K     \u001b[90m━━━━━━━━━━━━━━━━━━━━━━━━━━━━━━━━━━━━━━━━\u001b[0m \u001b[32m578.0/578.0 MB\u001b[0m \u001b[31m1.1 MB/s\u001b[0m eta \u001b[36m0:00:00\u001b[0m\n",
            "\u001b[?25hRequirement already satisfied: absl-py>=1.0.0 in /usr/local/lib/python3.10/dist-packages (from tensorflow-gpu==2.10.0) (1.4.0)\n",
            "Requirement already satisfied: astunparse>=1.6.0 in /usr/local/lib/python3.10/dist-packages (from tensorflow-gpu==2.10.0) (1.6.3)\n",
            "Requirement already satisfied: flatbuffers>=2.0 in /usr/local/lib/python3.10/dist-packages (from tensorflow-gpu==2.10.0) (23.5.26)\n",
            "Requirement already satisfied: gast<=0.4.0,>=0.2.1 in /usr/local/lib/python3.10/dist-packages (from tensorflow-gpu==2.10.0) (0.4.0)\n",
            "Requirement already satisfied: google-pasta>=0.1.1 in /usr/local/lib/python3.10/dist-packages (from tensorflow-gpu==2.10.0) (0.2.0)\n",
            "Requirement already satisfied: grpcio<2.0,>=1.24.3 in /usr/local/lib/python3.10/dist-packages (from tensorflow-gpu==2.10.0) (1.59.0)\n",
            "Requirement already satisfied: h5py>=2.9.0 in /usr/local/lib/python3.10/dist-packages (from tensorflow-gpu==2.10.0) (3.9.0)\n",
            "Requirement already satisfied: keras<2.11,>=2.10.0 in /usr/local/lib/python3.10/dist-packages (from tensorflow-gpu==2.10.0) (2.10.0)\n",
            "Requirement already satisfied: keras-preprocessing>=1.1.1 in /usr/local/lib/python3.10/dist-packages (from tensorflow-gpu==2.10.0) (1.1.2)\n",
            "Requirement already satisfied: libclang>=13.0.0 in /usr/local/lib/python3.10/dist-packages (from tensorflow-gpu==2.10.0) (16.0.6)\n",
            "Requirement already satisfied: numpy>=1.20 in /usr/local/lib/python3.10/dist-packages (from tensorflow-gpu==2.10.0) (1.23.5)\n",
            "Requirement already satisfied: opt-einsum>=2.3.2 in /usr/local/lib/python3.10/dist-packages (from tensorflow-gpu==2.10.0) (3.3.0)\n",
            "Requirement already satisfied: packaging in /usr/local/lib/python3.10/dist-packages (from tensorflow-gpu==2.10.0) (23.2)\n",
            "Requirement already satisfied: protobuf<3.20,>=3.9.2 in /usr/local/lib/python3.10/dist-packages (from tensorflow-gpu==2.10.0) (3.19.6)\n",
            "Requirement already satisfied: setuptools in /usr/local/lib/python3.10/dist-packages (from tensorflow-gpu==2.10.0) (67.7.2)\n",
            "Requirement already satisfied: six>=1.12.0 in /usr/local/lib/python3.10/dist-packages (from tensorflow-gpu==2.10.0) (1.16.0)\n",
            "Requirement already satisfied: tensorboard<2.11,>=2.10 in /usr/local/lib/python3.10/dist-packages (from tensorflow-gpu==2.10.0) (2.10.1)\n",
            "Requirement already satisfied: tensorflow-io-gcs-filesystem>=0.23.1 in /usr/local/lib/python3.10/dist-packages (from tensorflow-gpu==2.10.0) (0.34.0)\n",
            "Requirement already satisfied: tensorflow-estimator<2.11,>=2.10.0 in /usr/local/lib/python3.10/dist-packages (from tensorflow-gpu==2.10.0) (2.10.0)\n",
            "Requirement already satisfied: termcolor>=1.1.0 in /usr/local/lib/python3.10/dist-packages (from tensorflow-gpu==2.10.0) (2.3.0)\n",
            "Requirement already satisfied: typing-extensions>=3.6.6 in /usr/local/lib/python3.10/dist-packages (from tensorflow-gpu==2.10.0) (4.5.0)\n",
            "Requirement already satisfied: wrapt>=1.11.0 in /usr/local/lib/python3.10/dist-packages (from tensorflow-gpu==2.10.0) (1.15.0)\n",
            "Requirement already satisfied: wheel<1.0,>=0.23.0 in /usr/local/lib/python3.10/dist-packages (from astunparse>=1.6.0->tensorflow-gpu==2.10.0) (0.41.2)\n",
            "Requirement already satisfied: google-auth<3,>=1.6.3 in /usr/local/lib/python3.10/dist-packages (from tensorboard<2.11,>=2.10->tensorflow-gpu==2.10.0) (2.17.3)\n",
            "Requirement already satisfied: google-auth-oauthlib<0.5,>=0.4.1 in /usr/local/lib/python3.10/dist-packages (from tensorboard<2.11,>=2.10->tensorflow-gpu==2.10.0) (0.4.6)\n",
            "Requirement already satisfied: markdown>=2.6.8 in /usr/local/lib/python3.10/dist-packages (from tensorboard<2.11,>=2.10->tensorflow-gpu==2.10.0) (3.5)\n",
            "Requirement already satisfied: requests<3,>=2.21.0 in /usr/local/lib/python3.10/dist-packages (from tensorboard<2.11,>=2.10->tensorflow-gpu==2.10.0) (2.31.0)\n",
            "Requirement already satisfied: tensorboard-data-server<0.7.0,>=0.6.0 in /usr/local/lib/python3.10/dist-packages (from tensorboard<2.11,>=2.10->tensorflow-gpu==2.10.0) (0.6.1)\n",
            "Requirement already satisfied: tensorboard-plugin-wit>=1.6.0 in /usr/local/lib/python3.10/dist-packages (from tensorboard<2.11,>=2.10->tensorflow-gpu==2.10.0) (1.8.1)\n",
            "Requirement already satisfied: werkzeug>=1.0.1 in /usr/local/lib/python3.10/dist-packages (from tensorboard<2.11,>=2.10->tensorflow-gpu==2.10.0) (3.0.0)\n",
            "Requirement already satisfied: cachetools<6.0,>=2.0.0 in /usr/local/lib/python3.10/dist-packages (from google-auth<3,>=1.6.3->tensorboard<2.11,>=2.10->tensorflow-gpu==2.10.0) (5.3.1)\n",
            "Requirement already satisfied: pyasn1-modules>=0.2.1 in /usr/local/lib/python3.10/dist-packages (from google-auth<3,>=1.6.3->tensorboard<2.11,>=2.10->tensorflow-gpu==2.10.0) (0.3.0)\n",
            "Requirement already satisfied: rsa<5,>=3.1.4 in /usr/local/lib/python3.10/dist-packages (from google-auth<3,>=1.6.3->tensorboard<2.11,>=2.10->tensorflow-gpu==2.10.0) (4.9)\n",
            "Requirement already satisfied: requests-oauthlib>=0.7.0 in /usr/local/lib/python3.10/dist-packages (from google-auth-oauthlib<0.5,>=0.4.1->tensorboard<2.11,>=2.10->tensorflow-gpu==2.10.0) (1.3.1)\n",
            "Requirement already satisfied: charset-normalizer<4,>=2 in /usr/local/lib/python3.10/dist-packages (from requests<3,>=2.21.0->tensorboard<2.11,>=2.10->tensorflow-gpu==2.10.0) (3.3.0)\n",
            "Requirement already satisfied: idna<4,>=2.5 in /usr/local/lib/python3.10/dist-packages (from requests<3,>=2.21.0->tensorboard<2.11,>=2.10->tensorflow-gpu==2.10.0) (3.4)\n",
            "Requirement already satisfied: urllib3<3,>=1.21.1 in /usr/local/lib/python3.10/dist-packages (from requests<3,>=2.21.0->tensorboard<2.11,>=2.10->tensorflow-gpu==2.10.0) (2.0.7)\n",
            "Requirement already satisfied: certifi>=2017.4.17 in /usr/local/lib/python3.10/dist-packages (from requests<3,>=2.21.0->tensorboard<2.11,>=2.10->tensorflow-gpu==2.10.0) (2023.7.22)\n",
            "Requirement already satisfied: MarkupSafe>=2.1.1 in /usr/local/lib/python3.10/dist-packages (from werkzeug>=1.0.1->tensorboard<2.11,>=2.10->tensorflow-gpu==2.10.0) (2.1.3)\n",
            "Requirement already satisfied: pyasn1<0.6.0,>=0.4.6 in /usr/local/lib/python3.10/dist-packages (from pyasn1-modules>=0.2.1->google-auth<3,>=1.6.3->tensorboard<2.11,>=2.10->tensorflow-gpu==2.10.0) (0.5.0)\n",
            "Requirement already satisfied: oauthlib>=3.0.0 in /usr/local/lib/python3.10/dist-packages (from requests-oauthlib>=0.7.0->google-auth-oauthlib<0.5,>=0.4.1->tensorboard<2.11,>=2.10->tensorflow-gpu==2.10.0) (3.2.2)\n",
            "Installing collected packages: tensorflow-gpu\n",
            "Successfully installed tensorflow-gpu-2.10.0\n",
            "Collecting tensorflow-datasets==4.8.3\n",
            "  Downloading tensorflow_datasets-4.8.3-py3-none-any.whl (5.4 MB)\n",
            "\u001b[2K     \u001b[90m━━━━━━━━━━━━━━━━━━━━━━━━━━━━━━━━━━━━━━━━\u001b[0m \u001b[32m5.4/5.4 MB\u001b[0m \u001b[31m19.2 MB/s\u001b[0m eta \u001b[36m0:00:00\u001b[0m\n",
            "\u001b[?25hRequirement already satisfied: absl-py in /usr/local/lib/python3.10/dist-packages (from tensorflow-datasets==4.8.3) (1.4.0)\n",
            "Requirement already satisfied: click in /usr/local/lib/python3.10/dist-packages (from tensorflow-datasets==4.8.3) (8.1.7)\n",
            "Requirement already satisfied: dm-tree in /usr/local/lib/python3.10/dist-packages (from tensorflow-datasets==4.8.3) (0.1.8)\n",
            "Requirement already satisfied: etils[enp,epath]>=0.9.0 in /usr/local/lib/python3.10/dist-packages (from tensorflow-datasets==4.8.3) (1.5.1)\n",
            "Requirement already satisfied: numpy in /usr/local/lib/python3.10/dist-packages (from tensorflow-datasets==4.8.3) (1.23.5)\n",
            "Requirement already satisfied: promise in /usr/local/lib/python3.10/dist-packages (from tensorflow-datasets==4.8.3) (2.3)\n",
            "Requirement already satisfied: protobuf>=3.12.2 in /usr/local/lib/python3.10/dist-packages (from tensorflow-datasets==4.8.3) (3.19.6)\n",
            "Requirement already satisfied: psutil in /usr/local/lib/python3.10/dist-packages (from tensorflow-datasets==4.8.3) (5.9.5)\n",
            "Requirement already satisfied: requests>=2.19.0 in /usr/local/lib/python3.10/dist-packages (from tensorflow-datasets==4.8.3) (2.31.0)\n",
            "Requirement already satisfied: tensorflow-metadata in /usr/local/lib/python3.10/dist-packages (from tensorflow-datasets==4.8.3) (1.14.0)\n",
            "Requirement already satisfied: termcolor in /usr/local/lib/python3.10/dist-packages (from tensorflow-datasets==4.8.3) (2.3.0)\n",
            "Requirement already satisfied: toml in /usr/local/lib/python3.10/dist-packages (from tensorflow-datasets==4.8.3) (0.10.2)\n",
            "Requirement already satisfied: tqdm in /usr/local/lib/python3.10/dist-packages (from tensorflow-datasets==4.8.3) (4.66.1)\n",
            "Requirement already satisfied: wrapt in /usr/local/lib/python3.10/dist-packages (from tensorflow-datasets==4.8.3) (1.15.0)\n",
            "Requirement already satisfied: fsspec in /usr/local/lib/python3.10/dist-packages (from etils[enp,epath]>=0.9.0->tensorflow-datasets==4.8.3) (2023.6.0)\n",
            "Requirement already satisfied: importlib_resources in /usr/local/lib/python3.10/dist-packages (from etils[enp,epath]>=0.9.0->tensorflow-datasets==4.8.3) (6.1.0)\n",
            "Requirement already satisfied: typing_extensions in /usr/local/lib/python3.10/dist-packages (from etils[enp,epath]>=0.9.0->tensorflow-datasets==4.8.3) (4.5.0)\n",
            "Requirement already satisfied: zipp in /usr/local/lib/python3.10/dist-packages (from etils[enp,epath]>=0.9.0->tensorflow-datasets==4.8.3) (3.17.0)\n",
            "Requirement already satisfied: charset-normalizer<4,>=2 in /usr/local/lib/python3.10/dist-packages (from requests>=2.19.0->tensorflow-datasets==4.8.3) (3.3.0)\n",
            "Requirement already satisfied: idna<4,>=2.5 in /usr/local/lib/python3.10/dist-packages (from requests>=2.19.0->tensorflow-datasets==4.8.3) (3.4)\n",
            "Requirement already satisfied: urllib3<3,>=1.21.1 in /usr/local/lib/python3.10/dist-packages (from requests>=2.19.0->tensorflow-datasets==4.8.3) (2.0.7)\n",
            "Requirement already satisfied: certifi>=2017.4.17 in /usr/local/lib/python3.10/dist-packages (from requests>=2.19.0->tensorflow-datasets==4.8.3) (2023.7.22)\n",
            "Requirement already satisfied: six in /usr/local/lib/python3.10/dist-packages (from promise->tensorflow-datasets==4.8.3) (1.16.0)\n",
            "Requirement already satisfied: googleapis-common-protos<2,>=1.52.0 in /usr/local/lib/python3.10/dist-packages (from tensorflow-metadata->tensorflow-datasets==4.8.3) (1.61.0)\n",
            "Collecting protobuf>=3.12.2 (from tensorflow-datasets==4.8.3)\n",
            "  Downloading protobuf-3.20.3-cp310-cp310-manylinux_2_12_x86_64.manylinux2010_x86_64.whl (1.1 MB)\n",
            "\u001b[2K     \u001b[90m━━━━━━━━━━━━━━━━━━━━━━━━━━━━━━━━━━━━━━━━\u001b[0m \u001b[32m1.1/1.1 MB\u001b[0m \u001b[31m34.3 MB/s\u001b[0m eta \u001b[36m0:00:00\u001b[0m\n",
            "\u001b[?25hInstalling collected packages: protobuf, tensorflow-datasets\n",
            "  Attempting uninstall: protobuf\n",
            "    Found existing installation: protobuf 3.19.6\n",
            "    Uninstalling protobuf-3.19.6:\n",
            "      Successfully uninstalled protobuf-3.19.6\n",
            "  Attempting uninstall: tensorflow-datasets\n",
            "    Found existing installation: tensorflow-datasets 4.9.3\n",
            "    Uninstalling tensorflow-datasets-4.9.3:\n",
            "      Successfully uninstalled tensorflow-datasets-4.9.3\n",
            "\u001b[31mERROR: pip's dependency resolver does not currently take into account all the packages that are installed. This behaviour is the source of the following dependency conflicts.\n",
            "tensorboard 2.10.1 requires protobuf<3.20,>=3.9.2, but you have protobuf 3.20.3 which is incompatible.\n",
            "tensorflow 2.10.0 requires protobuf<3.20,>=3.9.2, but you have protobuf 3.20.3 which is incompatible.\n",
            "tensorflow-gpu 2.10.0 requires protobuf<3.20,>=3.9.2, but you have protobuf 3.20.3 which is incompatible.\u001b[0m\u001b[31m\n",
            "\u001b[0mSuccessfully installed protobuf-3.20.3 tensorflow-datasets-4.8.3\n"
          ]
        },
        {
          "output_type": "display_data",
          "data": {
            "application/vnd.colab-display-data+json": {
              "pip_warning": {
                "packages": [
                  "google"
                ]
              }
            }
          },
          "metadata": {}
        },
        {
          "output_type": "stream",
          "name": "stdout",
          "text": [
            "Collecting opencv-python==4.8.1.78\n",
            "  Downloading opencv_python-4.8.1.78-cp37-abi3-manylinux_2_17_x86_64.manylinux2014_x86_64.whl (61.7 MB)\n",
            "\u001b[2K     \u001b[90m━━━━━━━━━━━━━━━━━━━━━━━━━━━━━━━━━━━━━━━━\u001b[0m \u001b[32m61.7/61.7 MB\u001b[0m \u001b[31m9.3 MB/s\u001b[0m eta \u001b[36m0:00:00\u001b[0m\n",
            "\u001b[?25hRequirement already satisfied: numpy>=1.21.2 in /usr/local/lib/python3.10/dist-packages (from opencv-python==4.8.1.78) (1.23.5)\n",
            "Installing collected packages: opencv-python\n",
            "  Attempting uninstall: opencv-python\n",
            "    Found existing installation: opencv-python 4.8.0.76\n",
            "    Uninstalling opencv-python-4.8.0.76:\n",
            "      Successfully uninstalled opencv-python-4.8.0.76\n",
            "Successfully installed opencv-python-4.8.1.78\n",
            "Collecting QKeras==0.9.0\n",
            "  Downloading QKeras-0.9.0-py3-none-any.whl (152 kB)\n",
            "\u001b[2K     \u001b[90m━━━━━━━━━━━━━━━━━━━━━━━━━━━━━━━━━━━━━━━━\u001b[0m \u001b[32m152.8/152.8 kB\u001b[0m \u001b[31m4.0 MB/s\u001b[0m eta \u001b[36m0:00:00\u001b[0m\n",
            "\u001b[?25hRequirement already satisfied: numpy>=1.16.0 in /usr/local/lib/python3.10/dist-packages (from QKeras==0.9.0) (1.23.5)\n",
            "Requirement already satisfied: scipy>=1.4.1 in /usr/local/lib/python3.10/dist-packages (from QKeras==0.9.0) (1.11.3)\n",
            "Collecting pyparser (from QKeras==0.9.0)\n",
            "  Downloading pyparser-1.0.tar.gz (4.0 kB)\n",
            "  Preparing metadata (setup.py) ... \u001b[?25l\u001b[?25hdone\n",
            "Requirement already satisfied: setuptools>=41.0.0 in /usr/local/lib/python3.10/dist-packages (from QKeras==0.9.0) (67.7.2)\n",
            "Collecting tensorflow-model-optimization>=0.2.1 (from QKeras==0.9.0)\n",
            "  Downloading tensorflow_model_optimization-0.7.5-py2.py3-none-any.whl (241 kB)\n",
            "\u001b[2K     \u001b[90m━━━━━━━━━━━━━━━━━━━━━━━━━━━━━━━━━━━━━━━━\u001b[0m \u001b[32m241.2/241.2 kB\u001b[0m \u001b[31m15.1 MB/s\u001b[0m eta \u001b[36m0:00:00\u001b[0m\n",
            "\u001b[?25hRequirement already satisfied: networkx>=2.1 in /usr/local/lib/python3.10/dist-packages (from QKeras==0.9.0) (3.1)\n",
            "Collecting keras-tuner>=1.0.1 (from QKeras==0.9.0)\n",
            "  Downloading keras_tuner-1.4.5-py3-none-any.whl (129 kB)\n",
            "\u001b[2K     \u001b[90m━━━━━━━━━━━━━━━━━━━━━━━━━━━━━━━━━━━━━━━━\u001b[0m \u001b[32m129.5/129.5 kB\u001b[0m \u001b[31m10.6 MB/s\u001b[0m eta \u001b[36m0:00:00\u001b[0m\n",
            "\u001b[?25hRequirement already satisfied: scikit-learn>=0.23.1 in /usr/local/lib/python3.10/dist-packages (from QKeras==0.9.0) (1.2.2)\n",
            "Requirement already satisfied: tqdm>=4.48.0 in /usr/local/lib/python3.10/dist-packages (from QKeras==0.9.0) (4.66.1)\n",
            "Collecting keras-core (from keras-tuner>=1.0.1->QKeras==0.9.0)\n",
            "  Downloading keras_core-0.1.7-py3-none-any.whl (950 kB)\n",
            "\u001b[2K     \u001b[90m━━━━━━━━━━━━━━━━━━━━━━━━━━━━━━━━━━━━━━━━\u001b[0m \u001b[32m950.8/950.8 kB\u001b[0m \u001b[31m22.0 MB/s\u001b[0m eta \u001b[36m0:00:00\u001b[0m\n",
            "\u001b[?25hRequirement already satisfied: packaging in /usr/local/lib/python3.10/dist-packages (from keras-tuner>=1.0.1->QKeras==0.9.0) (23.2)\n",
            "Requirement already satisfied: requests in /usr/local/lib/python3.10/dist-packages (from keras-tuner>=1.0.1->QKeras==0.9.0) (2.31.0)\n",
            "Collecting kt-legacy (from keras-tuner>=1.0.1->QKeras==0.9.0)\n",
            "  Downloading kt_legacy-1.0.5-py3-none-any.whl (9.6 kB)\n",
            "Requirement already satisfied: joblib>=1.1.1 in /usr/local/lib/python3.10/dist-packages (from scikit-learn>=0.23.1->QKeras==0.9.0) (1.3.2)\n",
            "Requirement already satisfied: threadpoolctl>=2.0.0 in /usr/local/lib/python3.10/dist-packages (from scikit-learn>=0.23.1->QKeras==0.9.0) (3.2.0)\n",
            "Requirement already satisfied: absl-py~=1.2 in /usr/local/lib/python3.10/dist-packages (from tensorflow-model-optimization>=0.2.1->QKeras==0.9.0) (1.4.0)\n",
            "Requirement already satisfied: dm-tree~=0.1.1 in /usr/local/lib/python3.10/dist-packages (from tensorflow-model-optimization>=0.2.1->QKeras==0.9.0) (0.1.8)\n",
            "Requirement already satisfied: six~=1.14 in /usr/local/lib/python3.10/dist-packages (from tensorflow-model-optimization>=0.2.1->QKeras==0.9.0) (1.16.0)\n",
            "Collecting parse==1.6.5 (from pyparser->QKeras==0.9.0)\n",
            "  Downloading parse-1.6.5.tar.gz (24 kB)\n",
            "  Preparing metadata (setup.py) ... \u001b[?25l\u001b[?25hdone\n",
            "Requirement already satisfied: rich in /usr/local/lib/python3.10/dist-packages (from keras-core->keras-tuner>=1.0.1->QKeras==0.9.0) (13.6.0)\n",
            "Collecting namex (from keras-core->keras-tuner>=1.0.1->QKeras==0.9.0)\n",
            "  Downloading namex-0.0.7-py3-none-any.whl (5.8 kB)\n",
            "Requirement already satisfied: h5py in /usr/local/lib/python3.10/dist-packages (from keras-core->keras-tuner>=1.0.1->QKeras==0.9.0) (3.9.0)\n",
            "Requirement already satisfied: charset-normalizer<4,>=2 in /usr/local/lib/python3.10/dist-packages (from requests->keras-tuner>=1.0.1->QKeras==0.9.0) (3.3.0)\n",
            "Requirement already satisfied: idna<4,>=2.5 in /usr/local/lib/python3.10/dist-packages (from requests->keras-tuner>=1.0.1->QKeras==0.9.0) (3.4)\n",
            "Requirement already satisfied: urllib3<3,>=1.21.1 in /usr/local/lib/python3.10/dist-packages (from requests->keras-tuner>=1.0.1->QKeras==0.9.0) (2.0.7)\n",
            "Requirement already satisfied: certifi>=2017.4.17 in /usr/local/lib/python3.10/dist-packages (from requests->keras-tuner>=1.0.1->QKeras==0.9.0) (2023.7.22)\n",
            "Requirement already satisfied: markdown-it-py>=2.2.0 in /usr/local/lib/python3.10/dist-packages (from rich->keras-core->keras-tuner>=1.0.1->QKeras==0.9.0) (3.0.0)\n",
            "Requirement already satisfied: pygments<3.0.0,>=2.13.0 in /usr/local/lib/python3.10/dist-packages (from rich->keras-core->keras-tuner>=1.0.1->QKeras==0.9.0) (2.16.1)\n",
            "Requirement already satisfied: mdurl~=0.1 in /usr/local/lib/python3.10/dist-packages (from markdown-it-py>=2.2.0->rich->keras-core->keras-tuner>=1.0.1->QKeras==0.9.0) (0.1.2)\n",
            "Building wheels for collected packages: pyparser, parse\n",
            "  Building wheel for pyparser (setup.py) ... \u001b[?25l\u001b[?25hdone\n",
            "  Created wheel for pyparser: filename=pyparser-1.0-py3-none-any.whl size=4913 sha256=fbf8bca58262db57300a853706e3e77ab807e391785dcbc5ca53662d1a9878a4\n",
            "  Stored in directory: /root/.cache/pip/wheels/25/87/78/ff95e8a747dc534fbd199fb3ea06d80935bc87e44567bbdb31\n",
            "  Building wheel for parse (setup.py) ... \u001b[?25l\u001b[?25hdone\n",
            "  Created wheel for parse: filename=parse-1.6.5-py3-none-any.whl size=18154 sha256=cddc83b430008474ce00c740d61c01afd13245b3a6c253d0fbb759c5e5f11e33\n",
            "  Stored in directory: /root/.cache/pip/wheels/3f/10/c8/5023ea72290855ee33e7bc403e1048ae238b9c2fdb549a9f51\n",
            "Successfully built pyparser parse\n",
            "Installing collected packages: parse, namex, kt-legacy, tensorflow-model-optimization, pyparser, keras-core, keras-tuner, QKeras\n",
            "Successfully installed QKeras-0.9.0 keras-core-0.1.7 keras-tuner-1.4.5 kt-legacy-1.0.5 namex-0.0.7 parse-1.6.5 pyparser-1.0 tensorflow-model-optimization-0.7.5\n",
            "Collecting matplotlib==3.7.2\n",
            "  Downloading matplotlib-3.7.2-cp310-cp310-manylinux_2_17_x86_64.manylinux2014_x86_64.whl (11.6 MB)\n",
            "\u001b[2K     \u001b[90m━━━━━━━━━━━━━━━━━━━━━━━━━━━━━━━━━━━━━━━━\u001b[0m \u001b[32m11.6/11.6 MB\u001b[0m \u001b[31m31.9 MB/s\u001b[0m eta \u001b[36m0:00:00\u001b[0m\n",
            "\u001b[?25hRequirement already satisfied: contourpy>=1.0.1 in /usr/local/lib/python3.10/dist-packages (from matplotlib==3.7.2) (1.1.1)\n",
            "Requirement already satisfied: cycler>=0.10 in /usr/local/lib/python3.10/dist-packages (from matplotlib==3.7.2) (0.12.1)\n",
            "Requirement already satisfied: fonttools>=4.22.0 in /usr/local/lib/python3.10/dist-packages (from matplotlib==3.7.2) (4.43.1)\n",
            "Requirement already satisfied: kiwisolver>=1.0.1 in /usr/local/lib/python3.10/dist-packages (from matplotlib==3.7.2) (1.4.5)\n",
            "Requirement already satisfied: numpy>=1.20 in /usr/local/lib/python3.10/dist-packages (from matplotlib==3.7.2) (1.23.5)\n",
            "Requirement already satisfied: packaging>=20.0 in /usr/local/lib/python3.10/dist-packages (from matplotlib==3.7.2) (23.2)\n",
            "Requirement already satisfied: pillow>=6.2.0 in /usr/local/lib/python3.10/dist-packages (from matplotlib==3.7.2) (9.4.0)\n",
            "Collecting pyparsing<3.1,>=2.3.1 (from matplotlib==3.7.2)\n",
            "  Downloading pyparsing-3.0.9-py3-none-any.whl (98 kB)\n",
            "\u001b[2K     \u001b[90m━━━━━━━━━━━━━━━━━━━━━━━━━━━━━━━━━━━━━━━━\u001b[0m \u001b[32m98.3/98.3 kB\u001b[0m \u001b[31m9.2 MB/s\u001b[0m eta \u001b[36m0:00:00\u001b[0m\n",
            "\u001b[?25hRequirement already satisfied: python-dateutil>=2.7 in /usr/local/lib/python3.10/dist-packages (from matplotlib==3.7.2) (2.8.2)\n",
            "Requirement already satisfied: six>=1.5 in /usr/local/lib/python3.10/dist-packages (from python-dateutil>=2.7->matplotlib==3.7.2) (1.16.0)\n",
            "Installing collected packages: pyparsing, matplotlib\n",
            "  Attempting uninstall: pyparsing\n",
            "    Found existing installation: pyparsing 3.1.1\n",
            "    Uninstalling pyparsing-3.1.1:\n",
            "      Successfully uninstalled pyparsing-3.1.1\n",
            "  Attempting uninstall: matplotlib\n",
            "    Found existing installation: matplotlib 3.7.1\n",
            "    Uninstalling matplotlib-3.7.1:\n",
            "      Successfully uninstalled matplotlib-3.7.1\n",
            "\u001b[31mERROR: pip's dependency resolver does not currently take into account all the packages that are installed. This behaviour is the source of the following dependency conflicts.\n",
            "lida 0.0.10 requires fastapi, which is not installed.\n",
            "lida 0.0.10 requires kaleido, which is not installed.\n",
            "lida 0.0.10 requires python-multipart, which is not installed.\n",
            "lida 0.0.10 requires uvicorn, which is not installed.\u001b[0m\u001b[31m\n",
            "\u001b[0mSuccessfully installed matplotlib-3.7.2 pyparsing-3.0.9\n"
          ]
        },
        {
          "output_type": "display_data",
          "data": {
            "application/vnd.colab-display-data+json": {
              "pip_warning": {
                "packages": [
                  "matplotlib",
                  "mpl_toolkits"
                ]
              }
            }
          },
          "metadata": {}
        }
      ]
    },
    {
      "cell_type": "code",
      "execution_count": null,
      "metadata": {
        "id": "LGBe9xP5Hq4x"
      },
      "outputs": [],
      "source": [
        "import keras\n",
        "from keras import layers\n",
        "from keras.datasets import mnist\n",
        "import numpy as np\n",
        "from qkeras.qlayers import QDense, QActivation\n",
        "from qkeras.quantizers import quantized_bits, quantized_relu\n",
        "import cv2\n",
        "import matplotlib.pyplot as plt\n",
        "import os"
      ]
    },
    {
      "cell_type": "markdown",
      "metadata": {
        "id": "spViW9M2Hq4z"
      },
      "source": [
        "# **Utils**"
      ]
    },
    {
      "cell_type": "code",
      "execution_count": null,
      "metadata": {
        "id": "mSqSRibzHq40"
      },
      "outputs": [],
      "source": [
        "def fp_quantize(x, w, f):\n",
        "    \"\"\"\n",
        "    fixed point post quantization.\n",
        "    Args:\n",
        "        x: floating point (can be list) 32 bit input\n",
        "        w: bit width of the target fixed point\n",
        "        f: fraction bit width of the target fixed point\n",
        "    Returns:\n",
        "        the desired fixed point quantized of the input x\n",
        "    \"\"\"\n",
        "    i = w - f\n",
        "    max = float(2 ** (i - 1) - 2 ** (-f))\n",
        "    min = float(-2 ** (i - 1))\n",
        "    n = float(2 ** f)\n",
        "    xx = np.floor(x * n + 0.5) / n\n",
        "    clipped = np.clip(xx, a_min=min, a_max=max)\n",
        "    return clipped"
      ]
    },
    {
      "cell_type": "code",
      "execution_count": null,
      "metadata": {
        "id": "hvh027TsHq40"
      },
      "outputs": [],
      "source": [
        "def FPToHex(x, w = 8, f = 7):\n",
        "    \"\"\"\n",
        "    Converts a given Fixed point number to its Hex representation.\n",
        "    Args:\n",
        "        x: fixed point having w bits and f bits fraction input\n",
        "        w: bit width of the input\n",
        "        f: fraction bit width of the input\n",
        "    Returns:\n",
        "        Hex representation of input\n",
        "    \"\"\"\n",
        "    x_fix = x\n",
        "    x_fix = x_fix * pow(2, f)\n",
        "    x_fix = int(x_fix)\n",
        "    if(x_fix < 0):\n",
        "        binary = bin(x_fix+(1<<w))\n",
        "    else:\n",
        "        binary = bin(x_fix)\n",
        "    return hex(int(binary, 2))[2:]\n",
        "\n",
        "def WriteFixPToFile(file_name, data_fp, w = 8, f = 7, mode = \"w\"):\n",
        "    \"\"\"\n",
        "    Writes given Fixed point numbers specified by w bits width and f bits fraction to the given file name.\n",
        "    Args:\n",
        "        file_name: file name to save the output\n",
        "        data_fp: fixed point list having w bits and f bits fraction input\n",
        "        w: bit width of the input\n",
        "        f: fraction bit width of the input\n",
        "    Returns:\n",
        "        None\n",
        "    \"\"\"\n",
        "    with open(file_name, mode) as file:\n",
        "        for i in range(data_fp.shape[0]):\n",
        "            file.write(str(FPToHex(data_fp[i], w=w, f=f))+'\\n')"
      ]
    },
    {
      "cell_type": "markdown",
      "metadata": {
        "id": "sFEivGDjHq40"
      },
      "source": [
        "Use below function if needed (like verifying outputs or debugging)."
      ]
    },
    {
      "cell_type": "code",
      "execution_count": null,
      "metadata": {
        "id": "d35Uu7MgHq40"
      },
      "outputs": [],
      "source": [
        "def twos_complement(bin_num):\n",
        "    \"\"\"\n",
        "    calculates the 2's complement of the given binary number.\n",
        "    Args:\n",
        "        bin_num: binary number in string format\n",
        "    Returns:\n",
        "        the binary representation after performing 2's complement\n",
        "    \"\"\"\n",
        "\n",
        "    # Perform 2's complement on the binary number\n",
        "    flipped = ''\n",
        "    for bit in bin_num:\n",
        "        flipped += '0' if bit == '1' else '1'\n",
        "    comp_num = int(flipped, 2) + 1\n",
        "\n",
        "    return bin(comp_num)[2:].zfill(len(bin_num))\n",
        "\n",
        "def fixed_point_to_float(bin_num, w=16, f=14):\n",
        "    \"\"\"\n",
        "    Converts a fixed point number given in binary representation to its decimal floating point.\n",
        "    Args:\n",
        "        bin_num: binary number in string format\n",
        "        w: bit width of the input\n",
        "        f: fraction bit width of the input\n",
        "    Returns:\n",
        "        decimal floating point\n",
        "    \"\"\"\n",
        "        # Check if the number is negative\n",
        "    sign_bit = int(bin_num[0])\n",
        "    if sign_bit:\n",
        "        bin_num = twos_complement(bin_num, w, f)\n",
        "\n",
        "    # Split the binary number into integer and fractional parts\n",
        "    if f > 0:\n",
        "        if f == w:\n",
        "            float_num = int(bin_num, 2) / 2**f\n",
        "        else:\n",
        "            int_part = int(bin_num[:-f], 2)\n",
        "            frac_part = int(bin_num[-f:], 2) / 2**f\n",
        "            float_num = int_part + frac_part\n",
        "    else:\n",
        "        int_part = int(bin_num, 2)\n",
        "        float_num = int_part\n",
        "\n",
        "    # Apply the sign to the floating point number if it was negative\n",
        "    if sign_bit:\n",
        "        float_num = -float_num\n",
        "\n",
        "    return float_num\n",
        "\n",
        "def hex_to_fixed_point_decimal(hex_value, w, f):\n",
        "    \"\"\"\n",
        "    Converts a fixed point number given in hex representation to its decimal floating point.\n",
        "    Args:\n",
        "        hex_value: hex number in string format\n",
        "        w: bit width of the input\n",
        "        f: fraction bit width of the input\n",
        "    Returns:\n",
        "        decimal floating point\n",
        "    \"\"\"\n",
        "    binary_value = bin(int(hex_value, 16))[2:]\n",
        "\n",
        "    # # Determine the sign bit\n",
        "    binary_value = binary_value.zfill(w)\n",
        "\n",
        "    # return decimal_value\n",
        "    return fixed_point_to_float(binary_value, w, f)"
      ]
    },
    {
      "cell_type": "markdown",
      "metadata": {
        "id": "lz_IIzH4Hq41"
      },
      "source": [
        "# **Data Preparation**"
      ]
    },
    {
      "cell_type": "markdown",
      "metadata": {
        "id": "n1vOMvlVHq41"
      },
      "source": [
        "load and normalize data images:"
      ]
    },
    {
      "cell_type": "code",
      "execution_count": null,
      "metadata": {
        "colab": {
          "base_uri": "https://localhost:8080/"
        },
        "id": "n4s_OGnSHq41",
        "outputId": "70000125-1652-4da3-c12c-6ae12e0cb69c"
      },
      "outputs": [
        {
          "output_type": "stream",
          "name": "stdout",
          "text": [
            "Downloading data from https://storage.googleapis.com/tensorflow/tf-keras-datasets/mnist.npz\n",
            "11490434/11490434 [==============================] - 0s 0us/step\n"
          ]
        }
      ],
      "source": [
        "(x_train, _), (x_test, _) = mnist.load_data()\n",
        "x_train = x_train.astype('float32') / 255.\n",
        "x_test = x_test.astype('float32') / 255."
      ]
    },
    {
      "cell_type": "markdown",
      "metadata": {
        "id": "6I0hQCvmHq41"
      },
      "source": [
        "display images:"
      ]
    },
    {
      "cell_type": "code",
      "execution_count": null,
      "metadata": {
        "colab": {
          "base_uri": "https://localhost:8080/",
          "height": 118
        },
        "id": "b1jJ5DngHq41",
        "outputId": "b92a1d65-3f06-4cec-fd8a-2df77817d46a"
      },
      "outputs": [
        {
          "output_type": "display_data",
          "data": {
            "text/plain": [
              "<Figure size 400x400 with 4 Axes>"
            ],
            "image/png": "[encoded data removed]"
          },
          "metadata": {}
        }
      ],
      "source": [
        "plt.figure(figsize=(4, 4))\n",
        "for i in range(4):\n",
        "    plt.subplot(2, 4, i + 1)\n",
        "    plt.imshow(x_test[i], cmap='gray')\n",
        "    plt.axis('off')\n",
        "\n",
        "plt.tight_layout()\n",
        "plt.show()"
      ]
    },
    {
      "cell_type": "markdown",
      "metadata": {
        "id": "JetNB7k5Hq41"
      },
      "source": [
        "network constants:"
      ]
    },
    {
      "cell_type": "code",
      "execution_count": null,
      "metadata": {
        "id": "69KvlBjaHq42"
      },
      "outputs": [],
      "source": [
        "LATENT_SAPCE_DIM = 32\n",
        "LATENT_SPACE_WIDTH = 4\n",
        "LATENT_SAPCE_HEIGHT = 8"
      ]
    },
    {
      "cell_type": "markdown",
      "metadata": {
        "id": "SQrV5epqHq42"
      },
      "source": [
        "reshape images to one dimensional shape:"
      ]
    },
    {
      "cell_type": "code",
      "execution_count": null,
      "metadata": {
        "colab": {
          "base_uri": "https://localhost:8080/"
        },
        "id": "RGExURa6Hq42",
        "outputId": "c7b9d853-329c-4e1e-9da5-b949b42af19c"
      },
      "outputs": [
        {
          "output_type": "stream",
          "name": "stdout",
          "text": [
            "(60000, 784)\n",
            "(10000, 784)\n"
          ]
        }
      ],
      "source": [
        "x_train = x_train.reshape((len(x_train), np.prod(x_train.shape[1:])))\n",
        "x_test = x_test.reshape((len(x_test), np.prod(x_test.shape[1:])))\n",
        "print(x_train.shape)\n",
        "print(x_test.shape)"
      ]
    },
    {
      "cell_type": "markdown",
      "metadata": {
        "id": "rYVbeOU3Hq42"
      },
      "source": [
        "# **Training**"
      ]
    },
    {
      "cell_type": "markdown",
      "metadata": {
        "id": "nkeOfWhxHq42"
      },
      "source": [
        "define the autoencoder model:"
      ]
    },
    {
      "cell_type": "code",
      "execution_count": null,
      "metadata": {
        "id": "gUUmy14DHq42"
      },
      "outputs": [],
      "source": [
        "input_img = keras.Input(shape=(x_train.shape[1],))\n",
        "encoded = layers.Dense(128, activation='relu')(input_img)\n",
        "encoded = layers.Dense(64, activation='relu')(encoded)\n",
        "encoded = layers.Dense(LATENT_SAPCE_DIM, activation='relu')(encoded)\n",
        "\n",
        "decoded = layers.Dense(64, activation='relu')(encoded)\n",
        "decoded = layers.Dense(128, activation='relu')(decoded)\n",
        "decoded = layers.Dense(x_train.shape[1], activation='sigmoid')(decoded)\n",
        "autoencoder = keras.Model(input_img, decoded)"
      ]
    },
    {
      "cell_type": "code",
      "execution_count": null,
      "metadata": {
        "colab": {
          "base_uri": "https://localhost:8080/"
        },
        "id": "1exf-x2BHq43",
        "outputId": "ba1ac124-1d0e-497a-d5a1-71ea7d88f682"
      },
      "outputs": [
        {
          "output_type": "stream",
          "name": "stdout",
          "text": [
            "Model: \"model\"\n",
            "_________________________________________________________________\n",
            " Layer (type)                Output Shape              Param #   \n",
            "=================================================================\n",
            " input_1 (InputLayer)        [(None, 784)]             0         \n",
            "                                                                 \n",
            " dense (Dense)               (None, 128)               100480    \n",
            "                                                                 \n",
            " dense_1 (Dense)             (None, 64)                8256      \n",
            "                                                                 \n",
            " dense_2 (Dense)             (None, 32)                2080      \n",
            "                                                                 \n",
            " dense_3 (Dense)             (None, 64)                2112      \n",
            "                                                                 \n",
            " dense_4 (Dense)             (None, 128)               8320      \n",
            "                                                                 \n",
            " dense_5 (Dense)             (None, 784)               101136    \n",
            "                                                                 \n",
            "=================================================================\n",
            "Total params: 222,384\n",
            "Trainable params: 222,384\n",
            "Non-trainable params: 0\n",
            "_________________________________________________________________\n"
          ]
        }
      ],
      "source": [
        "autoencoder.summary()"
      ]
    },
    {
      "cell_type": "markdown",
      "metadata": {
        "id": "FBQJwsScHq43"
      },
      "source": [
        "define encoder:"
      ]
    },
    {
      "cell_type": "code",
      "execution_count": null,
      "metadata": {
        "id": "ofcQhH3yHq43"
      },
      "outputs": [],
      "source": [
        "encoder = keras.Model(input_img, encoded)"
      ]
    },
    {
      "cell_type": "markdown",
      "metadata": {
        "id": "PPJJ8Nf3Hq43"
      },
      "source": [
        "define decoder:"
      ]
    },
    {
      "cell_type": "code",
      "execution_count": null,
      "metadata": {
        "id": "I93bq_GzHq43"
      },
      "outputs": [],
      "source": [
        "encoded_input = keras.Input(shape=(LATENT_SAPCE_DIM,))\n",
        "# Retrieve the last layer of the autoencoder model\n",
        "decoder_layer = autoencoder.layers[-3](encoded_input)\n",
        "decoder_layer = autoencoder.layers[-2](decoder_layer)\n",
        "decoder_layer = autoencoder.layers[-1](decoder_layer)\n",
        "# Create the decoder model\n",
        "decoder = keras.Model(encoded_input, decoder_layer)"
      ]
    },
    {
      "cell_type": "markdown",
      "metadata": {
        "id": "NxvMsTqYHq43"
      },
      "source": [
        "train the model:"
      ]
    },
    {
      "cell_type": "code",
      "execution_count": null,
      "metadata": {
        "colab": {
          "base_uri": "https://localhost:8080/"
        },
        "id": "MoqWr0EKHq44",
        "outputId": "3df40dd3-1e03-44df-baa0-48b3089556a7"
      },
      "outputs": [
        {
          "output_type": "stream",
          "name": "stdout",
          "text": [
            "Epoch 1/100\n",
            "235/235 [==============================] - 8s 22ms/step - loss: 0.0886 - val_loss: 0.0845\n",
            "Epoch 2/100\n",
            "235/235 [==============================] - 4s 17ms/step - loss: 0.0840 - val_loss: 0.0827\n",
            "Epoch 3/100\n",
            "235/235 [==============================] - 4s 19ms/step - loss: 0.0827 - val_loss: 0.0818\n",
            "Epoch 4/100\n",
            "235/235 [==============================] - 7s 29ms/step - loss: 0.0819 - val_loss: 0.0810\n",
            "Epoch 5/100\n",
            "235/235 [==============================] - 5s 20ms/step - loss: 0.0813 - val_loss: 0.0808\n",
            "Epoch 6/100\n",
            "235/235 [==============================] - 4s 17ms/step - loss: 0.0809 - val_loss: 0.0803\n",
            "Epoch 7/100\n",
            "235/235 [==============================] - 5s 21ms/step - loss: 0.0805 - val_loss: 0.0803\n",
            "Epoch 8/100\n",
            "235/235 [==============================] - 7s 29ms/step - loss: 0.0802 - val_loss: 0.0799\n",
            "Epoch 9/100\n",
            "235/235 [==============================] - 4s 19ms/step - loss: 0.0800 - val_loss: 0.0796\n",
            "Epoch 10/100\n",
            "235/235 [==============================] - 4s 17ms/step - loss: 0.0797 - val_loss: 0.0794\n",
            "Epoch 11/100\n",
            "235/235 [==============================] - 5s 20ms/step - loss: 0.0796 - val_loss: 0.0794\n",
            "Epoch 12/100\n",
            "235/235 [==============================] - 7s 29ms/step - loss: 0.0794 - val_loss: 0.0791\n",
            "Epoch 13/100\n",
            "235/235 [==============================] - 5s 20ms/step - loss: 0.0793 - val_loss: 0.0791\n",
            "Epoch 14/100\n",
            "235/235 [==============================] - 4s 17ms/step - loss: 0.0791 - val_loss: 0.0789\n",
            "Epoch 15/100\n",
            "235/235 [==============================] - 5s 20ms/step - loss: 0.0790 - val_loss: 0.0790\n",
            "Epoch 16/100\n",
            "235/235 [==============================] - 7s 28ms/step - loss: 0.0789 - val_loss: 0.0785\n",
            "Epoch 17/100\n",
            "235/235 [==============================] - 5s 19ms/step - loss: 0.0788 - val_loss: 0.0785\n",
            "Epoch 18/100\n",
            "235/235 [==============================] - 4s 17ms/step - loss: 0.0787 - val_loss: 0.0785\n",
            "Epoch 19/100\n",
            "235/235 [==============================] - 5s 21ms/step - loss: 0.0786 - val_loss: 0.0784\n",
            "Epoch 20/100\n",
            "235/235 [==============================] - 7s 28ms/step - loss: 0.0785 - val_loss: 0.0784\n",
            "Epoch 21/100\n",
            "235/235 [==============================] - 5s 20ms/step - loss: 0.0784 - val_loss: 0.0783\n",
            "Epoch 22/100\n",
            "235/235 [==============================] - 4s 18ms/step - loss: 0.0783 - val_loss: 0.0782\n",
            "Epoch 23/100\n",
            "235/235 [==============================] - 5s 23ms/step - loss: 0.0783 - val_loss: 0.0781\n",
            "Epoch 24/100\n",
            "235/235 [==============================] - 7s 30ms/step - loss: 0.0782 - val_loss: 0.0781\n",
            "Epoch 25/100\n",
            "235/235 [==============================] - 4s 18ms/step - loss: 0.0781 - val_loss: 0.0780\n",
            "Epoch 26/100\n",
            "235/235 [==============================] - 4s 17ms/step - loss: 0.0780 - val_loss: 0.0779\n",
            "Epoch 27/100\n",
            "235/235 [==============================] - 5s 22ms/step - loss: 0.0780 - val_loss: 0.0780\n",
            "Epoch 28/100\n",
            "235/235 [==============================] - 7s 29ms/step - loss: 0.0779 - val_loss: 0.0779\n",
            "Epoch 29/100\n",
            "235/235 [==============================] - 4s 17ms/step - loss: 0.0779 - val_loss: 0.0779\n",
            "Epoch 30/100\n",
            "235/235 [==============================] - 4s 17ms/step - loss: 0.0778 - val_loss: 0.0778\n",
            "Epoch 31/100\n",
            "235/235 [==============================] - 5s 23ms/step - loss: 0.0778 - val_loss: 0.0778\n",
            "Epoch 32/100\n",
            "235/235 [==============================] - 7s 29ms/step - loss: 0.0778 - val_loss: 0.0776\n",
            "Epoch 33/100\n",
            "235/235 [==============================] - 4s 17ms/step - loss: 0.0777 - val_loss: 0.0779\n",
            "Epoch 34/100\n",
            "235/235 [==============================] - 4s 17ms/step - loss: 0.0776 - val_loss: 0.0777\n",
            "Epoch 35/100\n",
            "235/235 [==============================] - 6s 24ms/step - loss: 0.0776 - val_loss: 0.0777\n",
            "Epoch 36/100\n",
            "235/235 [==============================] - 6s 27ms/step - loss: 0.0776 - val_loss: 0.0777\n",
            "Epoch 37/100\n",
            "235/235 [==============================] - 4s 17ms/step - loss: 0.0775 - val_loss: 0.0776\n",
            "Epoch 38/100\n",
            "235/235 [==============================] - 4s 17ms/step - loss: 0.0775 - val_loss: 0.0775\n",
            "Epoch 39/100\n",
            "235/235 [==============================] - 6s 24ms/step - loss: 0.0775 - val_loss: 0.0777\n",
            "Epoch 40/100\n",
            "235/235 [==============================] - 6s 27ms/step - loss: 0.0775 - val_loss: 0.0776\n",
            "Epoch 41/100\n",
            "235/235 [==============================] - 4s 17ms/step - loss: 0.0774 - val_loss: 0.0775\n",
            "Epoch 42/100\n",
            "235/235 [==============================] - 4s 17ms/step - loss: 0.0774 - val_loss: 0.0774\n",
            "Epoch 43/100\n",
            "235/235 [==============================] - 5s 23ms/step - loss: 0.0774 - val_loss: 0.0775\n",
            "Epoch 44/100\n",
            "235/235 [==============================] - 7s 28ms/step - loss: 0.0773 - val_loss: 0.0774\n",
            "Epoch 45/100\n",
            "235/235 [==============================] - 4s 17ms/step - loss: 0.0773 - val_loss: 0.0777\n",
            "Epoch 46/100\n",
            "235/235 [==============================] - 4s 17ms/step - loss: 0.0773 - val_loss: 0.0773\n",
            "Epoch 47/100\n",
            "235/235 [==============================] - 6s 24ms/step - loss: 0.0773 - val_loss: 0.0776\n",
            "Epoch 48/100\n",
            "235/235 [==============================] - 7s 28ms/step - loss: 0.0772 - val_loss: 0.0773\n",
            "Epoch 49/100\n",
            "235/235 [==============================] - 4s 17ms/step - loss: 0.0772 - val_loss: 0.0773\n",
            "Epoch 50/100\n",
            "235/235 [==============================] - 4s 18ms/step - loss: 0.0772 - val_loss: 0.0773\n",
            "Epoch 51/100\n",
            "235/235 [==============================] - 6s 26ms/step - loss: 0.0771 - val_loss: 0.0772\n",
            "Epoch 52/100\n",
            "235/235 [==============================] - 6s 27ms/step - loss: 0.0772 - val_loss: 0.0773\n",
            "Epoch 53/100\n",
            "235/235 [==============================] - 4s 17ms/step - loss: 0.0771 - val_loss: 0.0774\n",
            "Epoch 54/100\n",
            "235/235 [==============================] - 4s 17ms/step - loss: 0.0771 - val_loss: 0.0773\n",
            "Epoch 55/100\n",
            "235/235 [==============================] - 6s 25ms/step - loss: 0.0771 - val_loss: 0.0773\n",
            "Epoch 56/100\n",
            "235/235 [==============================] - 6s 27ms/step - loss: 0.0771 - val_loss: 0.0772\n",
            "Epoch 57/100\n",
            "235/235 [==============================] - 4s 17ms/step - loss: 0.0770 - val_loss: 0.0773\n",
            "Epoch 58/100\n",
            "235/235 [==============================] - 4s 17ms/step - loss: 0.0770 - val_loss: 0.0772\n",
            "Epoch 59/100\n",
            "235/235 [==============================] - 6s 26ms/step - loss: 0.0770 - val_loss: 0.0771\n",
            "Epoch 60/100\n",
            "235/235 [==============================] - 6s 26ms/step - loss: 0.0770 - val_loss: 0.0771\n",
            "Epoch 61/100\n",
            "235/235 [==============================] - 4s 17ms/step - loss: 0.0770 - val_loss: 0.0771\n",
            "Epoch 62/100\n",
            "235/235 [==============================] - 4s 17ms/step - loss: 0.0770 - val_loss: 0.0771\n",
            "Epoch 63/100\n",
            "235/235 [==============================] - 6s 26ms/step - loss: 0.0769 - val_loss: 0.0772\n",
            "Epoch 64/100\n",
            "235/235 [==============================] - 6s 26ms/step - loss: 0.0769 - val_loss: 0.0769\n",
            "Epoch 65/100\n",
            "235/235 [==============================] - 4s 17ms/step - loss: 0.0769 - val_loss: 0.0771\n",
            "Epoch 66/100\n",
            "235/235 [==============================] - 4s 17ms/step - loss: 0.0769 - val_loss: 0.0770\n",
            "Epoch 67/100\n",
            "235/235 [==============================] - 6s 26ms/step - loss: 0.0769 - val_loss: 0.0770\n",
            "Epoch 68/100\n",
            "235/235 [==============================] - 6s 27ms/step - loss: 0.0769 - val_loss: 0.0771\n",
            "Epoch 69/100\n",
            "235/235 [==============================] - 4s 17ms/step - loss: 0.0768 - val_loss: 0.0772\n",
            "Epoch 70/100\n",
            "235/235 [==============================] - 4s 17ms/step - loss: 0.0768 - val_loss: 0.0769\n",
            "Epoch 71/100\n",
            "235/235 [==============================] - 6s 26ms/step - loss: 0.0768 - val_loss: 0.0773\n",
            "Epoch 72/100\n",
            "235/235 [==============================] - 6s 27ms/step - loss: 0.0768 - val_loss: 0.0771\n",
            "Epoch 73/100\n",
            "235/235 [==============================] - 4s 18ms/step - loss: 0.0768 - val_loss: 0.0771\n",
            "Epoch 74/100\n",
            "235/235 [==============================] - 4s 18ms/step - loss: 0.0768 - val_loss: 0.0769\n",
            "Epoch 75/100\n",
            "235/235 [==============================] - 6s 27ms/step - loss: 0.0768 - val_loss: 0.0768\n",
            "Epoch 76/100\n",
            "235/235 [==============================] - 6s 26ms/step - loss: 0.0767 - val_loss: 0.0769\n",
            "Epoch 77/100\n",
            "235/235 [==============================] - 4s 17ms/step - loss: 0.0768 - val_loss: 0.0769\n",
            "Epoch 78/100\n",
            "235/235 [==============================] - 4s 17ms/step - loss: 0.0767 - val_loss: 0.0772\n",
            "Epoch 79/100\n",
            "235/235 [==============================] - 6s 27ms/step - loss: 0.0767 - val_loss: 0.0769\n",
            "Epoch 80/100\n",
            "235/235 [==============================] - 6s 26ms/step - loss: 0.0767 - val_loss: 0.0769\n",
            "Epoch 81/100\n",
            "235/235 [==============================] - 4s 17ms/step - loss: 0.0767 - val_loss: 0.0769\n",
            "Epoch 82/100\n",
            "235/235 [==============================] - 4s 17ms/step - loss: 0.0767 - val_loss: 0.0768\n",
            "Epoch 83/100\n",
            "235/235 [==============================] - 6s 27ms/step - loss: 0.0767 - val_loss: 0.0770\n",
            "Epoch 84/100\n",
            "235/235 [==============================] - 6s 26ms/step - loss: 0.0767 - val_loss: 0.0769\n",
            "Epoch 85/100\n",
            "235/235 [==============================] - 4s 17ms/step - loss: 0.0767 - val_loss: 0.0769\n",
            "Epoch 86/100\n",
            "235/235 [==============================] - 4s 17ms/step - loss: 0.0767 - val_loss: 0.0771\n",
            "Epoch 87/100\n",
            "235/235 [==============================] - 6s 27ms/step - loss: 0.0766 - val_loss: 0.0768\n",
            "Epoch 88/100\n",
            "235/235 [==============================] - 6s 24ms/step - loss: 0.0766 - val_loss: 0.0767\n",
            "Epoch 89/100\n",
            "235/235 [==============================] - 4s 17ms/step - loss: 0.0766 - val_loss: 0.0768\n",
            "Epoch 90/100\n",
            "235/235 [==============================] - 4s 17ms/step - loss: 0.0766 - val_loss: 0.0769\n",
            "Epoch 91/100\n",
            "235/235 [==============================] - 6s 27ms/step - loss: 0.0766 - val_loss: 0.0770\n",
            "Epoch 92/100\n",
            "235/235 [==============================] - 6s 25ms/step - loss: 0.0766 - val_loss: 0.0767\n",
            "Epoch 93/100\n",
            "235/235 [==============================] - 4s 17ms/step - loss: 0.0766 - val_loss: 0.0768\n",
            "Epoch 94/100\n",
            "235/235 [==============================] - 4s 17ms/step - loss: 0.0766 - val_loss: 0.0768\n",
            "Epoch 95/100\n",
            "235/235 [==============================] - 6s 27ms/step - loss: 0.0766 - val_loss: 0.0768\n",
            "Epoch 96/100\n",
            "235/235 [==============================] - 6s 26ms/step - loss: 0.0766 - val_loss: 0.0767\n",
            "Epoch 97/100\n",
            "235/235 [==============================] - 4s 18ms/step - loss: 0.0765 - val_loss: 0.0770\n",
            "Epoch 98/100\n",
            "235/235 [==============================] - 4s 18ms/step - loss: 0.0765 - val_loss: 0.0769\n",
            "Epoch 99/100\n",
            "235/235 [==============================] - 7s 28ms/step - loss: 0.0765 - val_loss: 0.0767\n",
            "Epoch 100/100\n",
            "235/235 [==============================] - 6s 24ms/step - loss: 0.0765 - val_loss: 0.0768\n"
          ]
        }
      ],
      "source": [
        "autoencoder.compile(optimizer='adam', loss='binary_crossentropy')\n",
        "history = autoencoder.fit(x_train, x_train,\n",
        "                epochs=100,\n",
        "                batch_size=256,\n",
        "                shuffle=True,\n",
        "                validation_data=(x_test, x_test))"
      ]
    },
    {
      "cell_type": "code",
      "source": [
        "plt.figure(figsize=(10, 6))\n",
        "plt.plot(history.history['loss'], label='Training Loss')\n",
        "plt.plot(history.history['val_loss'], label='Validation Loss')\n",
        "plt.title('Training and Validation Losses')\n",
        "plt.ylabel('Loss')\n",
        "plt.xlabel('Epoch')\n",
        "plt.legend()\n",
        "plt.show()"
      ],
      "metadata": {
        "colab": {
          "base_uri": "https://localhost:8080/",
          "height": 564
        },
        "id": "9wCOrYp7aGRh",
        "outputId": "0fb1186b-31c4-4bb7-e318-5f7a2704a8d8"
      },
      "execution_count": null,
      "outputs": [
        {
          "output_type": "display_data",
          "data": {
            "text/plain": [
              "<Figure size 1000x600 with 1 Axes>"
            ],
            "image/png": "[encoded data removed]"
          },
          "metadata": {}
        }
      ]
    },
    {
      "cell_type": "markdown",
      "metadata": {
        "id": "NDsYuGTLHq44"
      },
      "source": [
        "get the output of the decoder from x_test input:"
      ]
    },
    {
      "cell_type": "code",
      "execution_count": null,
      "metadata": {
        "colab": {
          "base_uri": "https://localhost:8080/"
        },
        "id": "BSm63ZYBHq44",
        "outputId": "69d5acdb-25a7-4f81-c66e-53b9a8c6f724"
      },
      "outputs": [
        {
          "output_type": "stream",
          "name": "stdout",
          "text": [
            "313/313 [==============================] - 1s 2ms/step\n",
            "313/313 [==============================] - 1s 2ms/step\n"
          ]
        }
      ],
      "source": [
        "encoded_imgs = encoder.predict(x_test)\n",
        "decoded_imgs = decoder.predict(encoded_imgs)"
      ]
    },
    {
      "cell_type": "markdown",
      "metadata": {
        "id": "EUajHicXHq44"
      },
      "source": [
        "display the initial images and their corresponding decoded ones:"
      ]
    },
    {
      "cell_type": "code",
      "execution_count": null,
      "metadata": {
        "colab": {
          "base_uri": "https://localhost:8080/",
          "height": 336
        },
        "id": "eGytUSF8Hq44",
        "outputId": "bcfad7d9-af66-4f35-9820-212a31a0789f"
      },
      "outputs": [
        {
          "output_type": "display_data",
          "data": {
            "text/plain": [
              "<Figure size 2000x400 with 20 Axes>"
            ],
            "image/png": "[encoded data removed]"
          },
          "metadata": {}
        }
      ],
      "source": [
        "n = 10  # How many digits we will display\n",
        "plt.figure(figsize=(20, 4))\n",
        "for i in range(n):\n",
        "    # Display original\n",
        "    ax = plt.subplot(2, n, i + 1)\n",
        "    plt.imshow(x_test[i].reshape(28, 28))\n",
        "    plt.gray()\n",
        "    ax.get_xaxis().set_visible(False)\n",
        "    ax.get_yaxis().set_visible(False)\n",
        "\n",
        "    # Display reconstruction\n",
        "    ax = plt.subplot(2, n, i + 1 + n)\n",
        "    plt.imshow(decoded_imgs[i].reshape(28, 28))\n",
        "    plt.gray()\n",
        "    ax.get_xaxis().set_visible(False)\n",
        "    ax.get_yaxis().set_visible(False)\n",
        "plt.show()"
      ]
    },
    {
      "cell_type": "markdown",
      "metadata": {
        "id": "pKWtCnm9Hq44"
      },
      "source": [
        "display the images in latent space (output of encoder):"
      ]
    },
    {
      "cell_type": "code",
      "execution_count": null,
      "metadata": {
        "colab": {
          "base_uri": "https://localhost:8080/",
          "height": 299
        },
        "id": "oYc9t2nmHq44",
        "outputId": "243099d9-7b26-4d83-d6a7-4ce154968652"
      },
      "outputs": [
        {
          "output_type": "display_data",
          "data": {
            "text/plain": [
              "<Figure size 2000x800 with 10 Axes>"
            ],
            "image/png": "[encoded data removed]"
          },
          "metadata": {}
        }
      ],
      "source": [
        "n = 10\n",
        "plt.figure(figsize=(20, 8))\n",
        "for i in range(1, n + 1):\n",
        "    ax = plt.subplot(1, n, i)\n",
        "    plt.imshow(encoded_imgs[i].reshape((LATENT_SPACE_WIDTH, LATENT_SAPCE_HEIGHT)).T)\n",
        "    plt.gray()\n",
        "    ax.get_xaxis().set_visible(False)\n",
        "    ax.get_yaxis().set_visible(False)\n",
        "plt.show()"
      ]
    },
    {
      "cell_type": "markdown",
      "metadata": {
        "id": "tYAtOd38Hq44"
      },
      "source": [
        "apply noise to the dataset:"
      ]
    },
    {
      "cell_type": "code",
      "execution_count": null,
      "metadata": {
        "id": "VZ36EuKqHq45"
      },
      "outputs": [],
      "source": [
        "noise_factor = 0.5\n",
        "x_train_noisy = x_train + noise_factor * np.random.normal(loc=0.0, scale=1.0, size=x_train.shape)\n",
        "x_test_noisy = x_test + noise_factor * np.random.normal(loc=0.0, scale=1.0, size=x_test.shape)\n",
        "\n",
        "x_train_noisy = np.clip(x_train_noisy, 0., 1.)\n",
        "x_test_noisy = np.clip(x_test_noisy, 0., 1.)"
      ]
    },
    {
      "cell_type": "markdown",
      "metadata": {
        "id": "UW1s1zVbHq45"
      },
      "source": [
        "display noisy images:"
      ]
    },
    {
      "cell_type": "code",
      "execution_count": null,
      "metadata": {
        "colab": {
          "base_uri": "https://localhost:8080/",
          "height": 168
        },
        "id": "J9TGACY-Hq45",
        "outputId": "16412087-6162-457a-e3df-09c737eb7faf"
      },
      "outputs": [
        {
          "output_type": "display_data",
          "data": {
            "text/plain": [
              "<Figure size 2000x200 with 10 Axes>"
            ],
            "image/png": "[encoded data removed]"
          },
          "metadata": {}
        }
      ],
      "source": [
        "n = 10\n",
        "plt.figure(figsize=(20, 2))\n",
        "for i in range(1, n + 1):\n",
        "    ax = plt.subplot(1, n, i)\n",
        "    plt.imshow(x_test_noisy[i].reshape(28, 28))\n",
        "    plt.gray()\n",
        "    ax.get_xaxis().set_visible(False)\n",
        "    ax.get_yaxis().set_visible(False)\n",
        "plt.show()"
      ]
    },
    {
      "cell_type": "markdown",
      "metadata": {
        "id": "FaQbr5V0Hq45"
      },
      "source": [
        "train the model based on noisy input and real target:"
      ]
    },
    {
      "cell_type": "code",
      "execution_count": null,
      "metadata": {
        "colab": {
          "base_uri": "https://localhost:8080/"
        },
        "id": "cbeWJI_oHq45",
        "outputId": "95d5a8fb-208b-48c7-b7b9-1b54fa1f2c82"
      },
      "outputs": [
        {
          "output_type": "stream",
          "name": "stdout",
          "text": [
            "Epoch 1/100\n",
            "469/469 [==============================] - 8s 17ms/step - loss: 0.1500 - val_loss: 0.1265\n",
            "Epoch 2/100\n",
            "469/469 [==============================] - 5s 12ms/step - loss: 0.1236 - val_loss: 0.1201\n",
            "Epoch 3/100\n",
            "469/469 [==============================] - 7s 14ms/step - loss: 0.1199 - val_loss: 0.1182\n",
            "Epoch 4/100\n",
            "469/469 [==============================] - 8s 17ms/step - loss: 0.1183 - val_loss: 0.1175\n",
            "Epoch 5/100\n",
            "469/469 [==============================] - 6s 12ms/step - loss: 0.1173 - val_loss: 0.1164\n",
            "Epoch 6/100\n",
            "469/469 [==============================] - 7s 14ms/step - loss: 0.1166 - val_loss: 0.1161\n",
            "Epoch 7/100\n",
            "469/469 [==============================] - 8s 16ms/step - loss: 0.1161 - val_loss: 0.1154\n",
            "Epoch 8/100\n",
            "469/469 [==============================] - 6s 12ms/step - loss: 0.1157 - val_loss: 0.1153\n",
            "Epoch 9/100\n",
            "469/469 [==============================] - 6s 14ms/step - loss: 0.1153 - val_loss: 0.1148\n",
            "Epoch 10/100\n",
            "469/469 [==============================] - 8s 17ms/step - loss: 0.1148 - val_loss: 0.1146\n",
            "Epoch 11/100\n",
            "469/469 [==============================] - 5s 11ms/step - loss: 0.1147 - val_loss: 0.1140\n",
            "Epoch 12/100\n",
            "469/469 [==============================] - 6s 13ms/step - loss: 0.1144 - val_loss: 0.1145\n",
            "Epoch 13/100\n",
            "469/469 [==============================] - 8s 16ms/step - loss: 0.1141 - val_loss: 0.1137\n",
            "Epoch 14/100\n",
            "469/469 [==============================] - 5s 12ms/step - loss: 0.1139 - val_loss: 0.1140\n",
            "Epoch 15/100\n",
            "469/469 [==============================] - 10s 22ms/step - loss: 0.1136 - val_loss: 0.1141\n",
            "Epoch 16/100\n",
            "469/469 [==============================] - 11s 23ms/step - loss: 0.1135 - val_loss: 0.1137\n",
            "Epoch 17/100\n",
            "469/469 [==============================] - 7s 15ms/step - loss: 0.1133 - val_loss: 0.1138\n",
            "Epoch 18/100\n",
            "469/469 [==============================] - 9s 19ms/step - loss: 0.1132 - val_loss: 0.1131\n",
            "Epoch 19/100\n",
            "469/469 [==============================] - 5s 11ms/step - loss: 0.1129 - val_loss: 0.1134\n",
            "Epoch 20/100\n",
            "469/469 [==============================] - 6s 12ms/step - loss: 0.1128 - val_loss: 0.1132\n",
            "Epoch 21/100\n",
            "469/469 [==============================] - 8s 18ms/step - loss: 0.1126 - val_loss: 0.1134\n",
            "Epoch 22/100\n",
            "469/469 [==============================] - 6s 12ms/step - loss: 0.1125 - val_loss: 0.1134\n",
            "Epoch 23/100\n",
            "469/469 [==============================] - 6s 13ms/step - loss: 0.1123 - val_loss: 0.1129\n",
            "Epoch 24/100\n",
            "469/469 [==============================] - 8s 17ms/step - loss: 0.1121 - val_loss: 0.1133\n",
            "Epoch 25/100\n",
            "469/469 [==============================] - 6s 12ms/step - loss: 0.1121 - val_loss: 0.1130\n",
            "Epoch 26/100\n",
            "469/469 [==============================] - 6s 12ms/step - loss: 0.1120 - val_loss: 0.1127\n",
            "Epoch 27/100\n",
            "469/469 [==============================] - 8s 18ms/step - loss: 0.1120 - val_loss: 0.1133\n",
            "Epoch 28/100\n",
            "469/469 [==============================] - 6s 12ms/step - loss: 0.1117 - val_loss: 0.1127\n",
            "Epoch 29/100\n",
            "469/469 [==============================] - 6s 12ms/step - loss: 0.1116 - val_loss: 0.1128\n",
            "Epoch 30/100\n",
            "469/469 [==============================] - 8s 18ms/step - loss: 0.1115 - val_loss: 0.1123\n",
            "Epoch 31/100\n",
            "469/469 [==============================] - 6s 13ms/step - loss: 0.1114 - val_loss: 0.1122\n",
            "Epoch 32/100\n",
            "469/469 [==============================] - 6s 13ms/step - loss: 0.1113 - val_loss: 0.1122\n",
            "Epoch 33/100\n",
            "469/469 [==============================] - 8s 17ms/step - loss: 0.1112 - val_loss: 0.1127\n",
            "Epoch 34/100\n",
            "469/469 [==============================] - 5s 11ms/step - loss: 0.1111 - val_loss: 0.1120\n",
            "Epoch 35/100\n",
            "469/469 [==============================] - 6s 12ms/step - loss: 0.1110 - val_loss: 0.1123\n",
            "Epoch 36/100\n",
            "469/469 [==============================] - 8s 18ms/step - loss: 0.1109 - val_loss: 0.1123\n",
            "Epoch 37/100\n",
            "469/469 [==============================] - 5s 11ms/step - loss: 0.1109 - val_loss: 0.1124\n",
            "Epoch 38/100\n",
            "469/469 [==============================] - 5s 11ms/step - loss: 0.1107 - val_loss: 0.1125\n",
            "Epoch 39/100\n",
            "469/469 [==============================] - 9s 20ms/step - loss: 0.1107 - val_loss: 0.1125\n",
            "Epoch 40/100\n",
            "469/469 [==============================] - 6s 12ms/step - loss: 0.1106 - val_loss: 0.1122\n",
            "Epoch 41/100\n",
            "469/469 [==============================] - 5s 11ms/step - loss: 0.1105 - val_loss: 0.1124\n",
            "Epoch 42/100\n",
            "469/469 [==============================] - 8s 17ms/step - loss: 0.1105 - val_loss: 0.1122\n",
            "Epoch 43/100\n",
            "469/469 [==============================] - 6s 12ms/step - loss: 0.1103 - val_loss: 0.1118\n",
            "Epoch 44/100\n",
            "469/469 [==============================] - 5s 11ms/step - loss: 0.1102 - val_loss: 0.1124\n",
            "Epoch 45/100\n",
            "469/469 [==============================] - 8s 16ms/step - loss: 0.1102 - val_loss: 0.1119\n",
            "Epoch 46/100\n",
            "469/469 [==============================] - 7s 14ms/step - loss: 0.1101 - val_loss: 0.1117\n",
            "Epoch 47/100\n",
            "469/469 [==============================] - 6s 12ms/step - loss: 0.1101 - val_loss: 0.1120\n",
            "Epoch 48/100\n",
            "469/469 [==============================] - 8s 16ms/step - loss: 0.1100 - val_loss: 0.1115\n",
            "Epoch 49/100\n",
            "469/469 [==============================] - 7s 14ms/step - loss: 0.1100 - val_loss: 0.1121\n",
            "Epoch 50/100\n",
            "469/469 [==============================] - 5s 12ms/step - loss: 0.1099 - val_loss: 0.1119\n",
            "Epoch 51/100\n",
            "469/469 [==============================] - 8s 16ms/step - loss: 0.1097 - val_loss: 0.1122\n",
            "Epoch 52/100\n",
            "469/469 [==============================] - 6s 14ms/step - loss: 0.1098 - val_loss: 0.1117\n",
            "Epoch 53/100\n",
            "469/469 [==============================] - 5s 11ms/step - loss: 0.1097 - val_loss: 0.1118\n",
            "Epoch 54/100\n",
            "469/469 [==============================] - 7s 15ms/step - loss: 0.1097 - val_loss: 0.1116\n",
            "Epoch 55/100\n",
            "469/469 [==============================] - 7s 15ms/step - loss: 0.1095 - val_loss: 0.1116\n",
            "Epoch 56/100\n",
            "469/469 [==============================] - 6s 12ms/step - loss: 0.1095 - val_loss: 0.1120\n",
            "Epoch 57/100\n",
            "469/469 [==============================] - 10s 21ms/step - loss: 0.1094 - val_loss: 0.1111\n",
            "Epoch 58/100\n",
            "469/469 [==============================] - 7s 15ms/step - loss: 0.1094 - val_loss: 0.1113\n",
            "Epoch 59/100\n",
            "469/469 [==============================] - 6s 12ms/step - loss: 0.1093 - val_loss: 0.1114\n",
            "Epoch 60/100\n",
            "469/469 [==============================] - 7s 15ms/step - loss: 0.1093 - val_loss: 0.1110\n",
            "Epoch 61/100\n",
            "469/469 [==============================] - 7s 16ms/step - loss: 0.1092 - val_loss: 0.1113\n",
            "Epoch 62/100\n",
            "469/469 [==============================] - 5s 11ms/step - loss: 0.1092 - val_loss: 0.1114\n",
            "Epoch 63/100\n",
            "469/469 [==============================] - 7s 15ms/step - loss: 0.1092 - val_loss: 0.1118\n",
            "Epoch 64/100\n",
            "469/469 [==============================] - 8s 16ms/step - loss: 0.1091 - val_loss: 0.1114\n",
            "Epoch 65/100\n",
            "469/469 [==============================] - 5s 12ms/step - loss: 0.1090 - val_loss: 0.1114\n",
            "Epoch 66/100\n",
            "469/469 [==============================] - 7s 15ms/step - loss: 0.1090 - val_loss: 0.1115\n",
            "Epoch 67/100\n",
            "469/469 [==============================] - 7s 16ms/step - loss: 0.1089 - val_loss: 0.1114\n",
            "Epoch 68/100\n",
            "469/469 [==============================] - 5s 11ms/step - loss: 0.1089 - val_loss: 0.1114\n",
            "Epoch 69/100\n",
            "469/469 [==============================] - 7s 15ms/step - loss: 0.1089 - val_loss: 0.1115\n",
            "Epoch 70/100\n",
            "469/469 [==============================] - 7s 15ms/step - loss: 0.1088 - val_loss: 0.1112\n",
            "Epoch 71/100\n",
            "469/469 [==============================] - 5s 11ms/step - loss: 0.1088 - val_loss: 0.1116\n",
            "Epoch 72/100\n",
            "469/469 [==============================] - 7s 14ms/step - loss: 0.1087 - val_loss: 0.1115\n",
            "Epoch 73/100\n",
            "469/469 [==============================] - 8s 17ms/step - loss: 0.1087 - val_loss: 0.1111\n",
            "Epoch 74/100\n",
            "469/469 [==============================] - 5s 12ms/step - loss: 0.1086 - val_loss: 0.1111\n",
            "Epoch 75/100\n",
            "469/469 [==============================] - 7s 14ms/step - loss: 0.1087 - val_loss: 0.1110\n",
            "Epoch 76/100\n",
            "469/469 [==============================] - 8s 16ms/step - loss: 0.1086 - val_loss: 0.1117\n",
            "Epoch 77/100\n",
            "469/469 [==============================] - 5s 11ms/step - loss: 0.1085 - val_loss: 0.1110\n",
            "Epoch 78/100\n",
            "469/469 [==============================] - 6s 13ms/step - loss: 0.1085 - val_loss: 0.1111\n",
            "Epoch 79/100\n",
            "469/469 [==============================] - 8s 17ms/step - loss: 0.1085 - val_loss: 0.1112\n",
            "Epoch 80/100\n",
            "469/469 [==============================] - 5s 11ms/step - loss: 0.1084 - val_loss: 0.1121\n",
            "Epoch 81/100\n",
            "469/469 [==============================] - 6s 13ms/step - loss: 0.1084 - val_loss: 0.1108\n",
            "Epoch 82/100\n",
            "469/469 [==============================] - 8s 17ms/step - loss: 0.1084 - val_loss: 0.1108\n",
            "Epoch 83/100\n",
            "469/469 [==============================] - 6s 12ms/step - loss: 0.1083 - val_loss: 0.1114\n",
            "Epoch 84/100\n",
            "469/469 [==============================] - 6s 13ms/step - loss: 0.1083 - val_loss: 0.1111\n",
            "Epoch 85/100\n",
            "469/469 [==============================] - 8s 17ms/step - loss: 0.1082 - val_loss: 0.1109\n",
            "Epoch 86/100\n",
            "469/469 [==============================] - 6s 12ms/step - loss: 0.1082 - val_loss: 0.1117\n",
            "Epoch 87/100\n",
            "469/469 [==============================] - 6s 13ms/step - loss: 0.1081 - val_loss: 0.1109\n",
            "Epoch 88/100\n",
            "469/469 [==============================] - 8s 18ms/step - loss: 0.1082 - val_loss: 0.1113\n",
            "Epoch 89/100\n",
            "469/469 [==============================] - 6s 12ms/step - loss: 0.1081 - val_loss: 0.1116\n",
            "Epoch 90/100\n",
            "469/469 [==============================] - 6s 13ms/step - loss: 0.1080 - val_loss: 0.1110\n",
            "Epoch 91/100\n",
            "469/469 [==============================] - 8s 18ms/step - loss: 0.1081 - val_loss: 0.1108\n",
            "Epoch 92/100\n",
            "469/469 [==============================] - 6s 12ms/step - loss: 0.1080 - val_loss: 0.1111\n",
            "Epoch 93/100\n",
            "469/469 [==============================] - 6s 14ms/step - loss: 0.1080 - val_loss: 0.1110\n",
            "Epoch 94/100\n",
            "469/469 [==============================] - 8s 17ms/step - loss: 0.1080 - val_loss: 0.1111\n",
            "Epoch 95/100\n",
            "469/469 [==============================] - 6s 12ms/step - loss: 0.1079 - val_loss: 0.1109\n",
            "Epoch 96/100\n",
            "469/469 [==============================] - 6s 14ms/step - loss: 0.1079 - val_loss: 0.1108\n",
            "Epoch 97/100\n",
            "469/469 [==============================] - 8s 17ms/step - loss: 0.1079 - val_loss: 0.1109\n",
            "Epoch 98/100\n",
            "469/469 [==============================] - 6s 12ms/step - loss: 0.1078 - val_loss: 0.1110\n",
            "Epoch 99/100\n",
            "469/469 [==============================] - 6s 14ms/step - loss: 0.1079 - val_loss: 0.1109\n",
            "Epoch 100/100\n",
            "469/469 [==============================] - 8s 17ms/step - loss: 0.1078 - val_loss: 0.1105\n"
          ]
        },
        {
          "output_type": "execute_result",
          "data": {
            "text/plain": [
              "<keras.callbacks.History at 0x7b76c07a0310>"
            ]
          },
          "metadata": {},
          "execution_count": 20
        }
      ],
      "source": [
        "autoencoder.fit(x_train_noisy, x_train,\n",
        "                epochs=100,\n",
        "                batch_size=128,\n",
        "                shuffle=True,\n",
        "                validation_data=(x_test_noisy, x_test))"
      ]
    },
    {
      "cell_type": "code",
      "execution_count": null,
      "metadata": {
        "id": "mT8GVV1tHq45"
      },
      "outputs": [],
      "source": [
        "encoder = keras.Model(input_img, encoded)"
      ]
    },
    {
      "cell_type": "code",
      "execution_count": null,
      "metadata": {
        "id": "3CWXgOc4Hq45"
      },
      "outputs": [],
      "source": [
        "encoded_input = keras.Input(shape=(LATENT_SAPCE_DIM,))\n",
        "# Retrieve the last layer of the autoencoder model\n",
        "decoder_layer = autoencoder.layers[-3](encoded_input)\n",
        "decoder_layer = autoencoder.layers[-2](decoder_layer)\n",
        "decoder_layer = autoencoder.layers[-1](decoder_layer)\n",
        "# Create the decoder model\n",
        "decoder = keras.Model(encoded_input, decoder_layer)\n"
      ]
    },
    {
      "cell_type": "code",
      "execution_count": null,
      "metadata": {
        "colab": {
          "base_uri": "https://localhost:8080/"
        },
        "id": "nRT3HHr-Hq5B",
        "outputId": "b8f41ad2-ce61-4bc2-d83c-07613f3d98d4"
      },
      "outputs": [
        {
          "output_type": "stream",
          "name": "stdout",
          "text": [
            "313/313 [==============================] - 1s 3ms/step\n",
            "313/313 [==============================] - 1s 3ms/step\n"
          ]
        }
      ],
      "source": [
        "encoded_imgs = encoder.predict(x_test_noisy)\n",
        "decoded_imgs = decoder.predict(encoded_imgs)"
      ]
    },
    {
      "cell_type": "markdown",
      "metadata": {
        "id": "yooNDKunHq5B"
      },
      "source": [
        "show the noisy images and their corresponding denoised one using the trained model:"
      ]
    },
    {
      "cell_type": "code",
      "execution_count": null,
      "metadata": {
        "colab": {
          "base_uri": "https://localhost:8080/",
          "height": 336
        },
        "id": "f5JML2DeHq5B",
        "outputId": "217c32df-172b-489f-8bda-22a5865518b7"
      },
      "outputs": [
        {
          "output_type": "display_data",
          "data": {
            "text/plain": [
              "<Figure size 2000x400 with 20 Axes>"
            ],
            "image/png": "[encoded data removed]"
          },
          "metadata": {}
        }
      ],
      "source": [
        "n = 10  # How many digits we will display\n",
        "plt.figure(figsize=(20, 4))\n",
        "for i in range(n):\n",
        "    # Display original\n",
        "    ax = plt.subplot(2, n, i + 1)\n",
        "    plt.imshow(x_test_noisy[i].reshape(28, 28))\n",
        "    plt.gray()\n",
        "    ax.get_xaxis().set_visible(False)\n",
        "    ax.get_yaxis().set_visible(False)\n",
        "\n",
        "    # Display reconstruction\n",
        "    ax = plt.subplot(2, n, i + 1 + n)\n",
        "    plt.imshow(decoded_imgs[i].reshape(28, 28))\n",
        "    plt.gray()\n",
        "    ax.get_xaxis().set_visible(False)\n",
        "    ax.get_yaxis().set_visible(False)\n",
        "plt.show()"
      ]
    },
    {
      "cell_type": "markdown",
      "metadata": {
        "id": "tgxcp5MZHq5B"
      },
      "source": [
        "save the models:"
      ]
    },
    {
      "cell_type": "code",
      "execution_count": null,
      "metadata": {
        "colab": {
          "base_uri": "https://localhost:8080/"
        },
        "id": "5VgltSIeHq5B",
        "outputId": "691e3f6a-43b0-4108-faa6-59a882933503"
      },
      "outputs": [
        {
          "output_type": "stream",
          "name": "stderr",
          "text": [
            "WARNING:tensorflow:Compiled the loaded model, but the compiled metrics have yet to be built. `model.compile_metrics` will be empty until you train or evaluate the model.\n",
            "WARNING:tensorflow:Compiled the loaded model, but the compiled metrics have yet to be built. `model.compile_metrics` will be empty until you train or evaluate the model.\n"
          ]
        }
      ],
      "source": [
        "autoencoder.save(\"autoencoder.h5\")\n",
        "encoder.save(\"encoder.h5\")\n",
        "decoder.save(\"decoder.h5\")"
      ]
    },
    {
      "cell_type": "markdown",
      "metadata": {
        "id": "AONXcdgeHq5B"
      },
      "source": [
        "plot histogram of the weights of first layer:"
      ]
    },
    {
      "cell_type": "code",
      "execution_count": null,
      "metadata": {
        "colab": {
          "base_uri": "https://localhost:8080/",
          "height": 564
        },
        "id": "k_g9UAfrHq5C",
        "outputId": "63bba325-83f1-4acb-bbcd-641feafd6f9d"
      },
      "outputs": [
        {
          "output_type": "display_data",
          "data": {
            "text/plain": [
              "<Figure size 800x600 with 1 Axes>"
            ],
            "image/png": "[encoded data removed]"
          },
          "metadata": {}
        }
      ],
      "source": [
        "layer_weights = encoder.layers[1].get_weights()\n",
        "\n",
        "# Plot the weight distribution\n",
        "if layer_weights:\n",
        "    weights = layer_weights[0]\n",
        "\n",
        "    plt.figure(figsize=(8, 6))\n",
        "    plt.hist(weights.flatten(), bins=30, alpha=0.5, color='b', label='Weight Distribution')\n",
        "    plt.title(f'Weight Distribution of Layer {0}')\n",
        "    plt.xlabel('Weight Value')\n",
        "    plt.ylabel('Frequency')\n",
        "    plt.legend()\n",
        "    plt.grid(True)\n",
        "    plt.show()"
      ]
    },
    {
      "cell_type": "markdown",
      "metadata": {
        "id": "KYUTdibiHq5C"
      },
      "source": [
        "## Quantization"
      ]
    },
    {
      "cell_type": "markdown",
      "metadata": {
        "id": "QH3NT9Y_Hq5C"
      },
      "source": [
        "post quantize input and output to 16 bits width having 14 bits fraction:"
      ]
    },
    {
      "cell_type": "code",
      "execution_count": null,
      "metadata": {
        "id": "xQlMmRxpHq5C"
      },
      "outputs": [],
      "source": [
        "x_train2 = fp_quantize(x_train, 17, 14)\n",
        "x_test2 = fp_quantize(x_test, 17, 14)\n",
        "x_train_noisy_2 = fp_quantize(x_train_noisy, 17, 14)\n",
        "x_test_noisy_2 = fp_quantize(x_test_noisy, 17, 14)"
      ]
    },
    {
      "cell_type": "markdown",
      "metadata": {
        "id": "P3hb1BsOHq5C"
      },
      "source": [
        "define the quantization model using \"qkeras\" model:"
      ]
    },
    {
      "cell_type": "code",
      "execution_count": null,
      "metadata": {
        "id": "HVsughm3Hq5C"
      },
      "outputs": [],
      "source": [
        "input_img = keras.Input(shape=(x_train2.shape[1],))\n",
        "encoded = QDense(128, kernel_quantizer=quantized_bits(8, 1, alpha=1), bias_quantizer=quantized_bits(8, 1, alpha=1))(input_img)\n",
        "encoded = QActivation(activation=quantized_relu(8, 1))(encoded)\n",
        "encoded = QDense(64, kernel_quantizer=quantized_bits(8, 1, alpha=1), bias_quantizer=quantized_bits(8, 1, alpha=1))(encoded)\n",
        "encoded = QActivation(activation=quantized_relu(8, 1))(encoded)\n",
        "encoded = QDense(LATENT_SAPCE_DIM, kernel_quantizer=quantized_bits(16, 2, alpha=1), bias_quantizer=quantized_bits(16, 2, alpha=1))(encoded)\n",
        "encoded = QActivation(activation=quantized_relu(16, 2))(encoded)\n",
        "\n",
        "decoded = QDense(64, kernel_quantizer=quantized_bits(8, 1, alpha=1), bias_quantizer=quantized_bits(8, 1, alpha=1))(encoded)\n",
        "decoded = QActivation(activation=quantized_relu(8, 1))(decoded)\n",
        "decoded = QDense(128, kernel_quantizer=quantized_bits(8, 1, alpha=1), bias_quantizer=quantized_bits(8, 1, alpha=1))(decoded)\n",
        "decoded = QActivation(activation=quantized_relu(8, 1))(decoded)\n",
        "decoded = QDense(x_train2.shape[1], kernel_quantizer=quantized_bits(16, 2, alpha=1), bias_quantizer=quantized_bits(16, 2, alpha=1), activation='sigmoid')(decoded)\n",
        "\n",
        "qautoencoder = keras.Model(input_img, decoded)"
      ]
    },
    {
      "cell_type": "markdown",
      "metadata": {
        "id": "x2xFhg3mHq5C"
      },
      "source": [
        "train the model (Quantization Aware Training):"
      ]
    },
    {
      "cell_type": "code",
      "execution_count": null,
      "metadata": {
        "colab": {
          "base_uri": "https://localhost:8080/"
        },
        "id": "vNTwNKZSHq5D",
        "outputId": "4257602e-fbe1-45e0-bb22-cf98b38cdb9e"
      },
      "outputs": [
        {
          "output_type": "stream",
          "name": "stdout",
          "text": [
            "Epoch 1/100\n",
            "235/235 [==============================] - 9s 30ms/step - loss: 0.2870 - val_loss: 0.2179\n",
            "Epoch 2/100\n",
            "235/235 [==============================] - 7s 31ms/step - loss: 0.2005 - val_loss: 0.1872\n",
            "Epoch 3/100\n",
            "235/235 [==============================] - 5s 21ms/step - loss: 0.1811 - val_loss: 0.1734\n",
            "Epoch 4/100\n",
            "235/235 [==============================] - 6s 24ms/step - loss: 0.1699 - val_loss: 0.1653\n",
            "Epoch 5/100\n",
            "235/235 [==============================] - 8s 34ms/step - loss: 0.1635 - val_loss: 0.1613\n",
            "Epoch 6/100\n",
            "235/235 [==============================] - 5s 22ms/step - loss: 0.1591 - val_loss: 0.1564\n",
            "Epoch 7/100\n",
            "235/235 [==============================] - 5s 21ms/step - loss: 0.1551 - val_loss: 0.1531\n",
            "Epoch 8/100\n",
            "235/235 [==============================] - 8s 34ms/step - loss: 0.1523 - val_loss: 0.1500\n",
            "Epoch 9/100\n",
            "235/235 [==============================] - 6s 25ms/step - loss: 0.1499 - val_loss: 0.1498\n",
            "Epoch 10/100\n",
            "235/235 [==============================] - 5s 22ms/step - loss: 0.1480 - val_loss: 0.1469\n",
            "Epoch 11/100\n",
            "235/235 [==============================] - 7s 31ms/step - loss: 0.1465 - val_loss: 0.1451\n",
            "Epoch 12/100\n",
            "235/235 [==============================] - 7s 28ms/step - loss: 0.1453 - val_loss: 0.1437\n",
            "Epoch 13/100\n",
            "235/235 [==============================] - 5s 21ms/step - loss: 0.1439 - val_loss: 0.1450\n",
            "Epoch 14/100\n",
            "235/235 [==============================] - 6s 27ms/step - loss: 0.1431 - val_loss: 0.1423\n",
            "Epoch 15/100\n",
            "235/235 [==============================] - 7s 31ms/step - loss: 0.1418 - val_loss: 0.1414\n",
            "Epoch 16/100\n",
            "235/235 [==============================] - 5s 22ms/step - loss: 0.1408 - val_loss: 0.1405\n",
            "Epoch 17/100\n",
            "235/235 [==============================] - 6s 25ms/step - loss: 0.1401 - val_loss: 0.1399\n",
            "Epoch 18/100\n",
            "235/235 [==============================] - 8s 34ms/step - loss: 0.1391 - val_loss: 0.1393\n",
            "Epoch 19/100\n",
            "235/235 [==============================] - 5s 21ms/step - loss: 0.1384 - val_loss: 0.1395\n",
            "Epoch 20/100\n",
            "235/235 [==============================] - 5s 21ms/step - loss: 0.1377 - val_loss: 0.1372\n",
            "Epoch 21/100\n",
            "235/235 [==============================] - 8s 34ms/step - loss: 0.1371 - val_loss: 0.1374\n",
            "Epoch 22/100\n",
            "235/235 [==============================] - 6s 25ms/step - loss: 0.1364 - val_loss: 0.1366\n",
            "Epoch 23/100\n",
            "235/235 [==============================] - 5s 21ms/step - loss: 0.1358 - val_loss: 0.1374\n",
            "Epoch 24/100\n",
            "235/235 [==============================] - 7s 31ms/step - loss: 0.1355 - val_loss: 0.1358\n",
            "Epoch 25/100\n",
            "235/235 [==============================] - 7s 28ms/step - loss: 0.1349 - val_loss: 0.1347\n",
            "Epoch 26/100\n",
            "235/235 [==============================] - 5s 22ms/step - loss: 0.1346 - val_loss: 0.1353\n",
            "Epoch 27/100\n",
            "235/235 [==============================] - 6s 27ms/step - loss: 0.1343 - val_loss: 0.1351\n",
            "Epoch 28/100\n",
            "235/235 [==============================] - 7s 31ms/step - loss: 0.1336 - val_loss: 0.1347\n",
            "Epoch 29/100\n",
            "235/235 [==============================] - 5s 21ms/step - loss: 0.1332 - val_loss: 0.1331\n",
            "Epoch 30/100\n",
            "235/235 [==============================] - 6s 24ms/step - loss: 0.1328 - val_loss: 0.1337\n",
            "Epoch 31/100\n",
            "235/235 [==============================] - 8s 34ms/step - loss: 0.1324 - val_loss: 0.1329\n",
            "Epoch 32/100\n",
            "235/235 [==============================] - 5s 22ms/step - loss: 0.1321 - val_loss: 0.1329\n",
            "Epoch 33/100\n",
            "235/235 [==============================] - 5s 21ms/step - loss: 0.1317 - val_loss: 0.1332\n",
            "Epoch 34/100\n",
            "235/235 [==============================] - 8s 33ms/step - loss: 0.1318 - val_loss: 0.1326\n",
            "Epoch 35/100\n",
            "235/235 [==============================] - 6s 26ms/step - loss: 0.1310 - val_loss: 0.1328\n",
            "Epoch 36/100\n",
            "235/235 [==============================] - 5s 21ms/step - loss: 0.1309 - val_loss: 0.1322\n",
            "Epoch 37/100\n",
            "235/235 [==============================] - 7s 30ms/step - loss: 0.1305 - val_loss: 0.1314\n",
            "Epoch 38/100\n",
            "235/235 [==============================] - 8s 33ms/step - loss: 0.1304 - val_loss: 0.1316\n",
            "Epoch 39/100\n",
            "235/235 [==============================] - 6s 24ms/step - loss: 0.1301 - val_loss: 0.1332\n",
            "Epoch 40/100\n",
            "235/235 [==============================] - 7s 30ms/step - loss: 0.1299 - val_loss: 0.1312\n",
            "Epoch 41/100\n",
            "235/235 [==============================] - 6s 28ms/step - loss: 0.1295 - val_loss: 0.1321\n",
            "Epoch 42/100\n",
            "235/235 [==============================] - 5s 21ms/step - loss: 0.1292 - val_loss: 0.1304\n",
            "Epoch 43/100\n",
            "235/235 [==============================] - 6s 27ms/step - loss: 0.1291 - val_loss: 0.1313\n",
            "Epoch 44/100\n",
            "235/235 [==============================] - 8s 32ms/step - loss: 0.1289 - val_loss: 0.1321\n",
            "Epoch 45/100\n",
            "235/235 [==============================] - 5s 22ms/step - loss: 0.1283 - val_loss: 0.1294\n",
            "Epoch 46/100\n",
            "235/235 [==============================] - 6s 24ms/step - loss: 0.1285 - val_loss: 0.1311\n",
            "Epoch 47/100\n",
            "235/235 [==============================] - 9s 39ms/step - loss: 0.1280 - val_loss: 0.1299\n",
            "Epoch 48/100\n",
            "235/235 [==============================] - 8s 34ms/step - loss: 0.1278 - val_loss: 0.1289\n",
            "Epoch 49/100\n",
            "235/235 [==============================] - 6s 23ms/step - loss: 0.1275 - val_loss: 0.1308\n",
            "Epoch 50/100\n",
            "235/235 [==============================] - 8s 34ms/step - loss: 0.1276 - val_loss: 0.1290\n",
            "Epoch 51/100\n",
            "235/235 [==============================] - 6s 24ms/step - loss: 0.1274 - val_loss: 0.1307\n",
            "Epoch 52/100\n",
            "235/235 [==============================] - 5s 22ms/step - loss: 0.1274 - val_loss: 0.1290\n",
            "Epoch 53/100\n",
            "235/235 [==============================] - 8s 33ms/step - loss: 0.1269 - val_loss: 0.1323\n",
            "Epoch 54/100\n",
            "235/235 [==============================] - 6s 26ms/step - loss: 0.1268 - val_loss: 0.1308\n",
            "Epoch 55/100\n",
            "235/235 [==============================] - 5s 22ms/step - loss: 0.1269 - val_loss: 0.1302\n",
            "Epoch 56/100\n",
            "235/235 [==============================] - 7s 31ms/step - loss: 0.1265 - val_loss: 0.1281\n",
            "Epoch 57/100\n",
            "235/235 [==============================] - 7s 28ms/step - loss: 0.1264 - val_loss: 0.1291\n",
            "Epoch 58/100\n",
            "235/235 [==============================] - 5s 22ms/step - loss: 0.1266 - val_loss: 0.1283\n",
            "Epoch 59/100\n",
            "235/235 [==============================] - 6s 27ms/step - loss: 0.1266 - val_loss: 0.1289\n",
            "Epoch 60/100\n",
            "235/235 [==============================] - 7s 32ms/step - loss: 0.1259 - val_loss: 0.1279\n",
            "Epoch 61/100\n",
            "235/235 [==============================] - 5s 21ms/step - loss: 0.1258 - val_loss: 0.1276\n",
            "Epoch 62/100\n",
            "235/235 [==============================] - 5s 23ms/step - loss: 0.1259 - val_loss: 0.1271\n",
            "Epoch 63/100\n",
            "235/235 [==============================] - 8s 35ms/step - loss: 0.1254 - val_loss: 0.1286\n",
            "Epoch 64/100\n",
            "235/235 [==============================] - 5s 23ms/step - loss: 0.1258 - val_loss: 0.1285\n",
            "Epoch 65/100\n",
            "235/235 [==============================] - 5s 21ms/step - loss: 0.1256 - val_loss: 0.1278\n",
            "Epoch 66/100\n",
            "235/235 [==============================] - 8s 33ms/step - loss: 0.1258 - val_loss: 0.1287\n",
            "Epoch 67/100\n",
            "235/235 [==============================] - 6s 27ms/step - loss: 0.1252 - val_loss: 0.1279\n",
            "Epoch 68/100\n",
            "235/235 [==============================] - 5s 21ms/step - loss: 0.1254 - val_loss: 0.1293\n",
            "Epoch 69/100\n",
            "235/235 [==============================] - 7s 30ms/step - loss: 0.1250 - val_loss: 0.1282\n",
            "Epoch 70/100\n",
            "235/235 [==============================] - 7s 29ms/step - loss: 0.1249 - val_loss: 0.1275\n",
            "Epoch 71/100\n",
            "235/235 [==============================] - 5s 21ms/step - loss: 0.1248 - val_loss: 0.1274\n",
            "Epoch 72/100\n",
            "235/235 [==============================] - 6s 26ms/step - loss: 0.1246 - val_loss: 0.1287\n",
            "Epoch 73/100\n",
            "235/235 [==============================] - 8s 34ms/step - loss: 0.1246 - val_loss: 0.1273\n",
            "Epoch 74/100\n",
            "235/235 [==============================] - 5s 22ms/step - loss: 0.1247 - val_loss: 0.1289\n",
            "Epoch 75/100\n",
            "235/235 [==============================] - 6s 24ms/step - loss: 0.1247 - val_loss: 0.1272\n",
            "Epoch 76/100\n",
            "235/235 [==============================] - 8s 34ms/step - loss: 0.1247 - val_loss: 0.1275\n",
            "Epoch 77/100\n",
            "235/235 [==============================] - 5s 23ms/step - loss: 0.1247 - val_loss: 0.1280\n",
            "Epoch 78/100\n",
            "235/235 [==============================] - 5s 21ms/step - loss: 0.1243 - val_loss: 0.1278\n",
            "Epoch 79/100\n",
            "235/235 [==============================] - 8s 32ms/step - loss: 0.1240 - val_loss: 0.1288\n",
            "Epoch 80/100\n",
            "235/235 [==============================] - 6s 26ms/step - loss: 0.1241 - val_loss: 0.1262\n",
            "Epoch 81/100\n",
            "235/235 [==============================] - 5s 22ms/step - loss: 0.1240 - val_loss: 0.1263\n",
            "Epoch 82/100\n",
            "235/235 [==============================] - 9s 40ms/step - loss: 0.1240 - val_loss: 0.1267\n",
            "Epoch 83/100\n",
            "235/235 [==============================] - 7s 28ms/step - loss: 0.1239 - val_loss: 0.1273\n",
            "Epoch 84/100\n",
            "235/235 [==============================] - 5s 21ms/step - loss: 0.1240 - val_loss: 0.1275\n",
            "Epoch 85/100\n",
            "235/235 [==============================] - 7s 29ms/step - loss: 0.1241 - val_loss: 0.1275\n",
            "Epoch 86/100\n",
            "235/235 [==============================] - 7s 30ms/step - loss: 0.1237 - val_loss: 0.1267\n",
            "Epoch 87/100\n",
            "235/235 [==============================] - 5s 22ms/step - loss: 0.1237 - val_loss: 0.1263\n",
            "Epoch 88/100\n",
            "235/235 [==============================] - 6s 26ms/step - loss: 0.1239 - val_loss: 0.1278\n",
            "Epoch 89/100\n",
            "235/235 [==============================] - 8s 34ms/step - loss: 0.1239 - val_loss: 0.1258\n",
            "Epoch 90/100\n",
            "235/235 [==============================] - 5s 21ms/step - loss: 0.1235 - val_loss: 0.1255\n",
            "Epoch 91/100\n",
            "235/235 [==============================] - 5s 23ms/step - loss: 0.1231 - val_loss: 0.1266\n",
            "Epoch 92/100\n",
            "235/235 [==============================] - 8s 34ms/step - loss: 0.1235 - val_loss: 0.1257\n",
            "Epoch 93/100\n",
            "235/235 [==============================] - 6s 24ms/step - loss: 0.1234 - val_loss: 0.1259\n",
            "Epoch 94/100\n",
            "235/235 [==============================] - 5s 21ms/step - loss: 0.1236 - val_loss: 0.1250\n",
            "Epoch 95/100\n",
            "235/235 [==============================] - 7s 31ms/step - loss: 0.1234 - val_loss: 0.1276\n",
            "Epoch 96/100\n",
            "235/235 [==============================] - 7s 28ms/step - loss: 0.1236 - val_loss: 0.1269\n",
            "Epoch 97/100\n",
            "235/235 [==============================] - 5s 22ms/step - loss: 0.1232 - val_loss: 0.1258\n",
            "Epoch 98/100\n",
            "235/235 [==============================] - 6s 27ms/step - loss: 0.1231 - val_loss: 0.1253\n",
            "Epoch 99/100\n",
            "235/235 [==============================] - 7s 31ms/step - loss: 0.1230 - val_loss: 0.1257\n",
            "Epoch 100/100\n",
            "235/235 [==============================] - 5s 21ms/step - loss: 0.1229 - val_loss: 0.1246\n"
          ]
        }
      ],
      "source": [
        "qautoencoder.compile(optimizer='adam', loss='binary_crossentropy')\n",
        "history = qautoencoder.fit(x_train_noisy_2, x_train2,\n",
        "                epochs=100,\n",
        "                batch_size=256,\n",
        "                shuffle=True,\n",
        "                validation_data=(x_test_noisy_2, x_test2))"
      ]
    },
    {
      "cell_type": "code",
      "source": [
        "plt.figure(figsize=(10, 6))\n",
        "plt.plot(history.history['loss'], label='Training Loss')\n",
        "plt.plot(history.history['val_loss'], label='Validation Loss')\n",
        "plt.title('Training and Validation Losses')\n",
        "plt.ylabel('Loss')\n",
        "plt.xlabel('Epoch')\n",
        "plt.legend()\n",
        "plt.show()"
      ],
      "metadata": {
        "colab": {
          "base_uri": "https://localhost:8080/",
          "height": 564
        },
        "id": "MGcorR6_aOPP",
        "outputId": "cda4339c-3745-486a-873f-d8b102e80811"
      },
      "execution_count": null,
      "outputs": [
        {
          "output_type": "display_data",
          "data": {
            "text/plain": [
              "<Figure size 1000x600 with 1 Axes>"
            ],
            "image/png": "[encoded data removed]"
          },
          "metadata": {}
        }
      ]
    },
    {
      "cell_type": "markdown",
      "metadata": {
        "id": "5-F5g6RjHq5D"
      },
      "source": [
        "define the encoder:"
      ]
    },
    {
      "cell_type": "code",
      "execution_count": null,
      "metadata": {
        "id": "4hHv3Z3SHq5E"
      },
      "outputs": [],
      "source": [
        "qencoder = keras.Model(input_img, encoded)"
      ]
    },
    {
      "cell_type": "markdown",
      "metadata": {
        "id": "8_Okf5kEHq5E"
      },
      "source": [
        "define the decoder:"
      ]
    },
    {
      "cell_type": "code",
      "execution_count": null,
      "metadata": {
        "id": "I1xiIxWBHq5E"
      },
      "outputs": [],
      "source": [
        "encoded_input = keras.Input(shape=(LATENT_SAPCE_DIM,))\n",
        "# Retrieve the last layer of the autoencoder model\n",
        "decoder_layer = qautoencoder.layers[-5](encoded_input)\n",
        "decoder_layer = qautoencoder.layers[-4](decoder_layer)\n",
        "decoder_layer = qautoencoder.layers[-3](decoder_layer)\n",
        "decoder_layer = qautoencoder.layers[-2](decoder_layer)\n",
        "decoder_layer = qautoencoder.layers[-1](decoder_layer)\n",
        "# Create the decoder model\n",
        "qdecoder = keras.Model(encoded_input, decoder_layer)"
      ]
    },
    {
      "cell_type": "markdown",
      "metadata": {
        "id": "NgseToEnHq5E"
      },
      "source": [
        "get the outputs of the autoencoder:"
      ]
    },
    {
      "cell_type": "code",
      "execution_count": null,
      "metadata": {
        "colab": {
          "base_uri": "https://localhost:8080/"
        },
        "id": "K0BjfsnDHq5F",
        "outputId": "cf9a8c72-5597-4751-e36c-8206eebd0540"
      },
      "outputs": [
        {
          "output_type": "stream",
          "name": "stdout",
          "text": [
            "313/313 [==============================] - 2s 5ms/step\n",
            "313/313 [==============================] - 2s 5ms/step\n"
          ]
        }
      ],
      "source": [
        "encoded_imgs = qencoder.predict(x_test_noisy_2)\n",
        "decoded_imgs = qdecoder.predict(encoded_imgs)"
      ]
    },
    {
      "cell_type": "markdown",
      "metadata": {
        "id": "Oy4UdTOaHq5F"
      },
      "source": [
        "display the noisy inputs and their corresponding output using the quantized model:"
      ]
    },
    {
      "cell_type": "code",
      "execution_count": null,
      "metadata": {
        "colab": {
          "base_uri": "https://localhost:8080/",
          "height": 336
        },
        "id": "hq8JKVKBHq5F",
        "outputId": "6be69923-58b9-48cd-8e3e-30d75357acc1"
      },
      "outputs": [
        {
          "output_type": "display_data",
          "data": {
            "text/plain": [
              "<Figure size 2000x400 with 20 Axes>"
            ],
            "image/png": "[encoded data removed]"
          },
          "metadata": {}
        }
      ],
      "source": [
        "n = 10  # How many digits we will display\n",
        "plt.figure(figsize=(20, 4))\n",
        "for i in range(n):\n",
        "    # Display original\n",
        "    ax = plt.subplot(2, n, i + 1)\n",
        "    plt.imshow(x_test_noisy_2[i].reshape(28, 28))\n",
        "    plt.gray()\n",
        "    ax.get_xaxis().set_visible(False)\n",
        "    ax.get_yaxis().set_visible(False)\n",
        "\n",
        "    # Display reconstruction\n",
        "    ax = plt.subplot(2, n, i + 1 + n)\n",
        "    plt.imshow(decoded_imgs[i].reshape(28, 28))\n",
        "    plt.gray()\n",
        "    ax.get_xaxis().set_visible(False)\n",
        "    ax.get_yaxis().set_visible(False)\n",
        "plt.show()"
      ]
    },
    {
      "cell_type": "markdown",
      "metadata": {
        "id": "bNzzGCb8Hq5F"
      },
      "source": [
        "save the models:"
      ]
    },
    {
      "cell_type": "code",
      "execution_count": null,
      "metadata": {
        "colab": {
          "base_uri": "https://localhost:8080/"
        },
        "id": "AsECCH8UHq5F",
        "outputId": "3b7fbaca-fe96-4234-b61b-122a305d0d8d"
      },
      "outputs": [
        {
          "output_type": "stream",
          "name": "stderr",
          "text": [
            "WARNING:tensorflow:Compiled the loaded model, but the compiled metrics have yet to be built. `model.compile_metrics` will be empty until you train or evaluate the model.\n",
            "WARNING:tensorflow:Compiled the loaded model, but the compiled metrics have yet to be built. `model.compile_metrics` will be empty until you train or evaluate the model.\n"
          ]
        }
      ],
      "source": [
        "autoencoder.save(\"qautoencoder.h5\")\n",
        "qencoder.save(\"qencoder.h5\")\n",
        "qdecoder.save(\"qdecoder.h5\")"
      ]
    },
    {
      "cell_type": "markdown",
      "metadata": {
        "id": "V_dS4uMRHq5F"
      },
      "source": [
        "##############################################################################"
      ]
    },
    {
      "cell_type": "markdown",
      "metadata": {
        "id": "93KbeUJHHq5F"
      },
      "source": [
        "# **Save Weights as Fixed Point**"
      ]
    },
    {
      "cell_type": "code",
      "execution_count": null,
      "metadata": {
        "colab": {
          "base_uri": "https://localhost:8080/"
        },
        "id": "dJ_NDrCnHq5F",
        "outputId": "72111781-3d07-4c5d-849d-808e8df4373d"
      },
      "outputs": [
        {
          "output_type": "stream",
          "name": "stderr",
          "text": [
            "WARNING:tensorflow:No training configuration found in the save file, so the model was *not* compiled. Compile it manually.\n"
          ]
        }
      ],
      "source": [
        "from qkeras.utils import _add_supported_quantized_objects\n",
        "\n",
        "co = {}\n",
        "_add_supported_quantized_objects(co)\n",
        "qencoder = keras.models.load_model('qencoder.h5', custom_objects=co)\n",
        "qencoder.compile(optimizer='adam', loss='mse')"
      ]
    },
    {
      "cell_type": "code",
      "execution_count": null,
      "metadata": {
        "colab": {
          "base_uri": "https://localhost:8080/"
        },
        "id": "f-qqP7R-Hq5G",
        "outputId": "2f104d1a-5a63-4793-d75b-3e25900e57e4"
      },
      "outputs": [
        {
          "output_type": "execute_result",
          "data": {
            "text/plain": [
              "array([0.15649414, 0.        , 0.09155273, 0.77111816, 0.        ,\n",
              "       0.09851074, 0.79370117, 0.        , 0.82531738, 0.        ,\n",
              "       0.69299316, 0.        , 0.21862793, 0.91271973, 0.        ,\n",
              "       0.        , 0.01806641, 0.05407715, 0.        , 0.        ,\n",
              "       0.        , 0.        , 0.08282471, 0.56005859, 0.        ,\n",
              "       0.        , 0.39764404, 0.57550049, 0.        , 0.        ,\n",
              "       0.        , 0.        , 0.35821533, 0.        , 1.        ,\n",
              "       0.29766846, 0.        , 0.        , 0.48956299, 0.        ,\n",
              "       0.        , 0.        , 0.        , 0.        , 0.74841309,\n",
              "       0.14208984, 0.        , 1.        , 0.        , 0.        ,\n",
              "       0.        , 0.        , 0.        , 0.        , 0.        ,\n",
              "       0.        , 0.46710205, 0.        , 0.        , 0.81781006,\n",
              "       0.        , 0.37786865, 0.        , 0.08551025, 0.        ,\n",
              "       0.28430176, 0.83947754, 0.02789307, 0.33862305, 0.        ,\n",
              "       0.01977539, 0.05725098, 0.87530518, 0.86035156, 0.        ,\n",
              "       0.        , 0.        , 0.81085205, 0.        , 0.        ,\n",
              "       0.06256104, 0.        , 0.04577637, 0.31359863, 0.        ,\n",
              "       0.41296387, 0.        , 0.        , 0.09649658, 0.        ,\n",
              "       0.        , 0.        , 0.19488525, 0.84094238, 0.        ,\n",
              "       0.1026001 , 0.50054932, 0.        , 0.        , 0.        ,\n",
              "       0.27490234, 1.        , 0.        , 0.0982666 , 0.08361816,\n",
              "       0.        , 0.44049072, 0.        , 0.        , 0.65856934,\n",
              "       0.        , 0.2098999 , 0.04046631, 0.        , 0.05157471,\n",
              "       0.48895264, 0.        , 0.        , 0.        , 0.04449463,\n",
              "       0.        , 0.        , 0.        , 0.        , 0.        ,\n",
              "       0.        , 0.23083496, 0.50445557, 1.        , 1.        ,\n",
              "       0.27252197, 0.890625  , 0.        , 0.60803223, 0.29846191,\n",
              "       0.09381104, 0.6015625 , 0.        , 0.36303711, 0.        ,\n",
              "       0.75152588, 1.        , 0.15527344, 0.64196777, 0.27844238,\n",
              "       0.        , 0.        , 0.5390625 , 0.29052734, 0.28491211,\n",
              "       0.        , 0.        , 0.56384277, 0.        , 0.20458984,\n",
              "       0.45458984, 0.20349121, 0.18817139, 0.        , 0.        ,\n",
              "       0.        , 0.        , 0.        , 0.        , 0.        ,\n",
              "       0.        , 0.        , 0.06152344, 0.        , 0.        ,\n",
              "       0.04345703, 0.05615234, 0.73217773, 0.        , 0.51983643,\n",
              "       0.53375244, 0.16259766, 0.07629395, 0.46252441, 0.06848145,\n",
              "       0.        , 0.98504639, 0.05090332, 0.        , 0.18383789,\n",
              "       0.        , 0.        , 0.9420166 , 0.06866455, 0.        ,\n",
              "       0.72070312, 0.        , 0.67938232, 0.        , 0.        ,\n",
              "       0.        , 0.        , 0.07043457, 0.        , 0.        ,\n",
              "       0.        , 0.38684082, 0.36682129, 0.85736084, 0.27642822,\n",
              "       0.48736572, 0.20794678, 0.        , 0.75531006, 0.40142822,\n",
              "       0.        , 0.        , 0.04156494, 0.10028076, 0.        ,\n",
              "       0.        , 0.39685059, 0.87084961, 0.        , 0.        ,\n",
              "       0.2010498 , 0.        , 0.        , 0.0559082 , 0.        ,\n",
              "       0.07727051, 0.15228271, 0.        , 0.        , 0.        ,\n",
              "       1.        , 0.        , 1.        , 0.3526001 , 1.        ,\n",
              "       0.92785645, 1.        , 0.2487793 , 0.85900879, 0.78009033,\n",
              "       0.4239502 , 0.6105957 , 0.42004395, 0.85369873, 0.91802979,\n",
              "       0.        , 0.        , 0.        , 0.30761719, 0.20446777,\n",
              "       0.        , 0.09484863, 0.        , 0.        , 0.        ,\n",
              "       0.82086182, 0.19464111, 0.        , 0.47515869, 0.88684082,\n",
              "       0.29241943, 0.14349365, 1.        , 0.77722168, 0.84301758,\n",
              "       0.44573975, 1.        , 0.28137207, 0.86828613, 1.        ,\n",
              "       1.        , 1.        , 1.        , 1.        , 0.        ,\n",
              "       0.        , 0.        , 0.38543701, 0.        , 1.        ,\n",
              "       0.61547852, 0.1607666 , 0.49371338, 0.        , 0.        ,\n",
              "       0.        , 0.315979  , 0.93823242, 0.3838501 , 0.42810059,\n",
              "       0.24249268, 0.10925293, 0.24572754, 0.        , 0.58728027,\n",
              "       1.        , 0.75708008, 0.14263916, 0.11193848, 0.86859131,\n",
              "       1.        , 1.        , 0.28369141, 0.        , 0.        ,\n",
              "       0.        , 0.        , 0.46130371, 0.        , 0.37243652,\n",
              "       0.        , 0.16278076, 0.        , 0.        , 0.33624268,\n",
              "       0.        , 0.60626221, 0.97399902, 0.        , 0.45037842,\n",
              "       0.        , 0.21252441, 0.        , 0.21838379, 0.4743042 ,\n",
              "       0.        , 1.        , 0.85699463, 0.04064941, 0.        ,\n",
              "       0.        , 0.        , 0.        , 0.11224365, 0.        ,\n",
              "       0.66864014, 0.        , 0.        , 0.        , 0.        ,\n",
              "       0.        , 0.39685059, 0.        , 0.64654541, 0.        ,\n",
              "       0.        , 0.        , 0.4609375 , 0.        , 0.        ,\n",
              "       0.        , 0.        , 0.        , 0.76800537, 0.48461914,\n",
              "       1.        , 0.33703613, 0.44219971, 0.        , 0.        ,\n",
              "       0.        , 0.00311279, 0.        , 0.        , 0.01348877,\n",
              "       0.        , 0.53979492, 0.        , 0.        , 0.        ,\n",
              "       0.        , 0.10339355, 0.        , 0.13555908, 0.18139648,\n",
              "       0.31201172, 0.17089844, 0.65124512, 0.        , 0.        ,\n",
              "       0.        , 0.        , 1.        , 1.        , 0.        ,\n",
              "       0.3125    , 0.22473145, 0.02697754, 0.18371582, 0.09979248,\n",
              "       0.9911499 , 0.        , 0.36132812, 1.        , 0.        ,\n",
              "       0.        , 0.        , 0.4954834 , 0.9442749 , 0.04492188,\n",
              "       0.21582031, 0.        , 0.        , 0.19732666, 0.14971924,\n",
              "       0.        , 0.46044922, 0.        , 0.38452148, 0.34545898,\n",
              "       0.57946777, 0.41448975, 0.        , 0.        , 0.0135498 ,\n",
              "       0.23516846, 0.        , 0.        , 0.        , 0.        ,\n",
              "       0.        , 0.32696533, 0.        , 0.03631592, 0.        ,\n",
              "       0.9229126 , 0.        , 0.81561279, 0.        , 0.        ,\n",
              "       0.51538086, 0.        , 0.        , 0.        , 0.74285889,\n",
              "       0.        , 1.        , 1.        , 1.        , 0.00195312,\n",
              "       0.23724365, 0.50708008, 0.        , 0.15167236, 0.32873535,\n",
              "       0.46691895, 0.        , 0.77197266, 0.53875732, 0.        ,\n",
              "       0.        , 0.78894043, 0.50115967, 0.        , 0.        ,\n",
              "       0.        , 0.        , 0.24804688, 0.        , 0.        ,\n",
              "       0.        , 0.        , 0.2175293 , 0.        , 0.05273438,\n",
              "       0.89929199, 0.        , 0.        , 0.05639648, 0.00683594,\n",
              "       0.03308105, 0.26123047, 0.        , 0.26843262, 0.        ,\n",
              "       0.        , 0.        , 0.        , 0.75561523, 0.36767578,\n",
              "       0.        , 0.3291626 , 0.04705811, 0.        , 0.        ,\n",
              "       0.019104  , 0.16094971, 0.        , 0.        , 0.32531738,\n",
              "       0.23760986, 0.31524658, 0.64678955, 0.72869873, 0.        ,\n",
              "       0.296875  , 0.        , 0.        , 0.        , 0.23364258,\n",
              "       0.1026001 , 0.        , 0.        , 0.        , 0.50140381,\n",
              "       0.        , 0.        , 0.        , 0.44805908, 0.        ,\n",
              "       0.        , 0.        , 0.05523682, 0.28289795, 0.        ,\n",
              "       0.22814941, 0.        , 0.34338379, 0.53533936, 0.38171387,\n",
              "       0.78826904, 0.6774292 , 0.3538208 , 0.36889648, 0.        ,\n",
              "       0.        , 0.3939209 , 0.33728027, 0.13397217, 0.        ,\n",
              "       0.46954346, 0.        , 0.        , 0.        , 0.        ,\n",
              "       0.        , 0.        , 0.27868652, 0.01428223, 0.52044678,\n",
              "       0.14923096, 0.        , 0.10809326, 0.059021  , 0.48156738,\n",
              "       0.        , 1.        , 1.        , 1.        , 0.5970459 ,\n",
              "       0.        , 0.        , 0.26464844, 0.        , 0.        ,\n",
              "       0.37365723, 0.        , 1.        , 0.        , 0.        ,\n",
              "       0.19445801, 0.        , 0.        , 0.14111328, 0.        ,\n",
              "       1.        , 0.        , 0.46099854, 0.        , 0.        ,\n",
              "       0.        , 0.        , 0.16650391, 0.01062012, 1.        ,\n",
              "       0.20080566, 0.96276855, 0.        , 0.33740234, 0.46038818,\n",
              "       0.56994629, 0.        , 0.        , 0.        , 1.        ,\n",
              "       0.        , 0.        , 0.        , 0.6015625 , 0.        ,\n",
              "       0.05804443, 0.21154785, 0.50036621, 1.        , 0.40637207,\n",
              "       0.6605835 , 0.58502197, 0.        , 0.65753174, 0.42657471,\n",
              "       0.86468506, 1.        , 1.        , 0.34643555, 0.61303711,\n",
              "       0.        , 0.        , 0.        , 0.10009766, 0.        ,\n",
              "       0.        , 0.        , 0.        , 0.69018555, 0.        ,\n",
              "       0.72766113, 0.12347412, 0.        , 0.        , 0.        ,\n",
              "       0.        , 0.        , 0.16333008, 0.18371582, 0.        ,\n",
              "       0.01672363, 0.        , 0.        , 0.87481689, 1.        ,\n",
              "       0.27960205, 0.        , 0.        , 0.        , 0.        ,\n",
              "       0.20776367, 0.32232666, 0.32513428, 0.        , 0.98114014,\n",
              "       0.18481445, 1.        , 0.        , 0.        , 0.85876465,\n",
              "       0.        , 0.        , 0.19165039, 0.        , 0.76800537,\n",
              "       0.        , 0.        , 0.30407715, 0.03387451, 0.        ,\n",
              "       0.9486084 , 0.9050293 , 1.        , 1.        , 0.        ,\n",
              "       0.        , 0.25946045, 0.        , 0.06793213, 0.40368652,\n",
              "       0.32220459, 0.26953125, 0.        , 0.82611084, 0.68017578,\n",
              "       0.13745117, 0.        , 0.33074951, 0.50415039, 0.25244141,\n",
              "       0.        , 0.        , 0.14337158, 0.        , 0.        ,\n",
              "       0.03503418, 0.        , 0.        , 1.        , 0.62042236,\n",
              "       1.        , 0.48455811, 0.        , 0.        , 0.        ,\n",
              "       0.04803467, 0.        , 0.        , 0.43261719, 0.        ,\n",
              "       0.        , 0.        , 0.18536377, 0.92596436, 0.07611084,\n",
              "       0.        , 0.85015869, 0.        , 0.        , 0.27935791,\n",
              "       0.        , 0.        , 0.        , 0.00811768, 0.27233887,\n",
              "       1.        , 1.        , 1.        , 0.85021973, 0.        ,\n",
              "       0.        , 0.38537598, 0.54455566, 0.        , 0.41009521,\n",
              "       0.01293945, 0.6494751 , 0.        , 0.42712402, 0.08099365,\n",
              "       0.59686279, 0.01983643, 0.        , 0.0223999 , 0.        ,\n",
              "       0.        , 0.05267334, 0.        , 0.        , 0.24438477,\n",
              "       0.        , 0.        , 0.        , 0.64611816, 0.98303223,\n",
              "       1.        , 0.64019775, 0.87805176, 0.        , 0.        ,\n",
              "       0.19830322, 0.10791016, 0.        , 0.71582031, 0.16186523,\n",
              "       0.88348389, 0.        , 0.        , 1.        , 0.        ,\n",
              "       0.35211182, 0.        , 0.        , 0.17999268, 0.        ,\n",
              "       0.        , 0.59912109, 0.64147949, 0.        , 0.        ,\n",
              "       0.44024658, 0.7800293 , 0.01190186, 0.69030762, 0.84436035,\n",
              "       0.        , 0.65374756, 0.24273682, 0.        , 0.44195557,\n",
              "       0.50787354, 0.        , 0.        , 0.08843994, 0.        ,\n",
              "       0.        , 0.        , 0.00854492, 0.        ])"
            ]
          },
          "metadata": {},
          "execution_count": 36
        }
      ],
      "source": [
        "x_test_noisy_2[0]"
      ]
    },
    {
      "cell_type": "code",
      "execution_count": null,
      "metadata": {
        "colab": {
          "base_uri": "https://localhost:8080/"
        },
        "id": "XTZamS6oHq5G",
        "outputId": "e855e929-5731-4588-8ae2-1a5445ef44c9"
      },
      "outputs": [
        {
          "output_type": "stream",
          "name": "stdout",
          "text": [
            "1/1 [==============================] - 0s 390ms/step\n"
          ]
        },
        {
          "output_type": "execute_result",
          "data": {
            "text/plain": [
              "array([[0.6539917 , 0.        , 0.        , 0.        , 0.5195923 ,\n",
              "        1.6425781 , 1.0099487 , 0.        , 1.4637451 , 1.473938  ,\n",
              "        0.        , 1.0397339 , 0.1352539 , 0.        , 1.0484619 ,\n",
              "        1.3531494 , 2.0026245 , 0.        , 0.        , 0.        ,\n",
              "        1.1755371 , 3.999939  , 0.38024902, 0.3192749 , 0.        ,\n",
              "        0.        , 0.        , 1.7606812 , 0.6972046 , 0.        ,\n",
              "        1.1682129 , 0.        ]], dtype=float32)"
            ]
          },
          "metadata": {},
          "execution_count": 37
        }
      ],
      "source": [
        "qencoder.predict(np.array([x_test2[0]]))"
      ]
    },
    {
      "cell_type": "code",
      "execution_count": null,
      "metadata": {
        "id": "EqYGrlUhHq5G"
      },
      "outputs": [],
      "source": [
        "WriteFixPToFile(\"input.txt\", x_test2[0], 17, 14)"
      ]
    },
    {
      "cell_type": "code",
      "execution_count": null,
      "metadata": {
        "id": "eK4LKukFHq5G"
      },
      "outputs": [],
      "source": [
        "if not os.path.exists('weights'):\n",
        "    os.mkdir('weights')"
      ]
    },
    {
      "cell_type": "code",
      "execution_count": null,
      "metadata": {
        "id": "yjpRLsaCHq5G"
      },
      "outputs": [],
      "source": [
        "for i, layer in enumerate(qencoder.layers):\n",
        "    weights = layer.get_weights()\n",
        "    if weights and len(weights) > 0:\n",
        "        w_per_neuron = weights[0].shape[0]\n",
        "        w = np.einsum(\"ij->ji\", weights[0]).reshape(-1,)\n",
        "        b = weights[1].reshape(-1,)\n",
        "        separate_weights = [np.concatenate((w[c:c+w_per_neuron], b[int(c/w_per_neuron):int(c/w_per_neuron)+1]), axis=0) for c in range(0, len(w), w_per_neuron)]\n",
        "\n",
        "        width, f = (17, 14) if layer.name == 'last' else (9, 7)\n",
        "        for n, s in enumerate(separate_weights):\n",
        "            WriteFixPToFile(f\"weights/layer_{i + 1}_{n + 1}_w.txt\", s, width, f)"
      ]
    },
    {
      "cell_type": "code",
      "source": [
        "def calculate_model_size(neurons_per_layer, bits, quantized_bits):\n",
        "    original_model_size = sum([neurons_per_layer[i] * neurons_per_layer[i+1] for i in range(len(neurons_per_layer)-1)]) * bits\n",
        "    quantized_model_size = sum([neurons_per_layer[i] * neurons_per_layer[i+1] for i in range(len(neurons_per_layer)-1)]) * quantized_bits\n",
        "    original_model_size_kb = original_model_size / 8 / 1024\n",
        "    quantized_model_size_kb = quantized_model_size / 8 / 1024\n",
        "    compression = original_model_size_kb / quantized_model_size_kb\n",
        "    return original_model_size_kb, quantized_model_size_kb, compression\n",
        "\n",
        "neurons_per_layer = [x_train.shape[1], 128, 64, LATENT_SAPCE_DIM, 64, 128, x_train.shape[1]]\n",
        "\n",
        "bits = 32\n",
        "quantized_bits = 17\n",
        "\n",
        "original_model_size_kb, quantized_model_size_kb, compression = calculate_model_size(neurons_per_layer, bits, quantized_bits)\n",
        "print(f\"Original model size: {original_model_size_kb} KB\")\n",
        "print(f\"Quantized model size: {quantized_model_size_kb} KB\")\n",
        "print(f\"Compression achieved: {compression}\")\n"
      ],
      "metadata": {
        "colab": {
          "base_uri": "https://localhost:8080/"
        },
        "id": "TPzZ-hH1frvp",
        "outputId": "ce597604-8297-4cda-d58e-60802e1be42a"
      },
      "execution_count": null,
      "outputs": [
        {
          "output_type": "stream",
          "name": "stdout",
          "text": [
            "Original model size: 864.0 KB\n",
            "Quantized model size: 459.0 KB\n",
            "Compression achieved: 1.8823529411764706\n"
          ]
        }
      ]
    }
  ],
  "metadata": {
    "kernelspec": {
      "display_name": "Python 3",
      "language": "python",
      "name": "python3"
    },
    "language_info": {
      "codemirror_mode": {
        "name": "ipython",
        "version": 3
      },
      "file_extension": ".py",
      "mimetype": "text/x-python",
      "name": "python",
      "nbconvert_exporter": "python",
      "pygments_lexer": "ipython3",
      "version": "3.8.17"
    },
    "orig_nbformat": 4,
    "colab": {
      "provenance": []
    }
  },
  "nbformat": 4,
  "nbformat_minor": 0
}