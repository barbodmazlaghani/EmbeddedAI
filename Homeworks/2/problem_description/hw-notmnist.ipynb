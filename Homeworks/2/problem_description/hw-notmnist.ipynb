{
 "cells": [
  {
   "cell_type": "code",
   "execution_count": 1,
   "metadata": {},
   "outputs": [
    {
     "name": "stderr",
     "output_type": "stream",
     "text": [
      "2023-11-09 11:28:43.609435: I tensorflow/core/platform/cpu_feature_guard.cc:193] This TensorFlow binary is optimized with oneAPI Deep Neural Network Library (oneDNN) to use the following CPU instructions in performance-critical operations:  AVX2 AVX_VNNI FMA\n",
      "To enable them in other operations, rebuild TensorFlow with the appropriate compiler flags.\n",
      "2023-11-09 11:28:43.830385: I tensorflow/core/util/util.cc:169] oneDNN custom operations are on. You may see slightly different numerical results due to floating-point round-off errors from different computation orders. To turn them off, set the environment variable `TF_ENABLE_ONEDNN_OPTS=0`.\n",
      "2023-11-09 11:28:43.918999: E tensorflow/stream_executor/cuda/cuda_blas.cc:2981] Unable to register cuBLAS factory: Attempting to register factory for plugin cuBLAS when one has already been registered\n",
      "2023-11-09 11:28:44.659332: W tensorflow/stream_executor/platform/default/dso_loader.cc:64] Could not load dynamic library 'libnvinfer.so.7'; dlerror: libnvinfer.so.7: cannot open shared object file: No such file or directory; LD_LIBRARY_PATH: /home/mahdi/miniconda3/envs/env-python3.8/lib/python3.8/site-packages/nvidia/cudnn/lib:/home/mahdi/miniconda3/envs/env-python3.8/lib/:\n",
      "2023-11-09 11:28:44.659396: W tensorflow/stream_executor/platform/default/dso_loader.cc:64] Could not load dynamic library 'libnvinfer_plugin.so.7'; dlerror: libnvinfer_plugin.so.7: cannot open shared object file: No such file or directory; LD_LIBRARY_PATH: /home/mahdi/miniconda3/envs/env-python3.8/lib/python3.8/site-packages/nvidia/cudnn/lib:/home/mahdi/miniconda3/envs/env-python3.8/lib/:\n",
      "2023-11-09 11:28:44.659400: W tensorflow/compiler/tf2tensorrt/utils/py_utils.cc:38] TF-TRT Warning: Cannot dlopen some TensorRT libraries. If you would like to use Nvidia GPU with TensorRT, please make sure the missing libraries mentioned above are installed properly.\n"
     ]
    }
   ],
   "source": [
    "import keras\n",
    "import tensorflow as tf\n",
    "from keras import layers\n",
    "from keras.datasets import mnist\n",
    "import numpy as np\n",
    "from qkeras.qlayers import QDense, QActivation\n",
    "from qkeras.quantizers import quantized_bits, quantized_relu\n",
    "import cv2\n",
    "from sklearn.model_selection import train_test_split\n",
    "import matplotlib.pyplot as plt\n",
    "import os\n",
    "from matplotlib.pyplot import imread\n",
    "from tensorflow.keras.utils import to_categorical"
   ]
  },
  {
   "cell_type": "markdown",
   "metadata": {},
   "source": [
    "# **Utils**"
   ]
  },
  {
   "cell_type": "code",
   "execution_count": 2,
   "metadata": {},
   "outputs": [],
   "source": [
    "def fp_quantize(x, w, f):\n",
    "    i = w - f\n",
    "    max = float(2 ** (i - 1) - 2 ** (-f))\n",
    "    min = float(-2 ** (i - 1))\n",
    "    n = float(2 ** f)\n",
    "    xx = np.floor(x * n + 0.5) / n\n",
    "    clipped = np.clip(xx, a_min=min, a_max=max)\n",
    "    return clipped"
   ]
  },
  {
   "cell_type": "code",
   "execution_count": 3,
   "metadata": {},
   "outputs": [],
   "source": [
    "def FPToHex(x, w = 8, f = 7):\n",
    "    x_fix = x\n",
    "    x_fix = x_fix * pow(2, f)\n",
    "    x_fix = int(x_fix)\n",
    "    if(x_fix < 0):\n",
    "        binary = bin(x_fix+(1<<w))\n",
    "    else:\n",
    "        binary = bin(x_fix)\n",
    "    return hex(int(binary, 2))[2:]\n",
    "\n",
    "def WriteFixPToFile(file_name, data_fp, w = 8, f = 7, mode = \"w\"):\n",
    "    with open(file_name, mode) as file:\n",
    "        for i in range(data_fp.shape[0]):\n",
    "            file.write(str(FPToHex(data_fp[i], w=w, f=f))+'\\n')"
   ]
  },
  {
   "cell_type": "code",
   "execution_count": 4,
   "metadata": {},
   "outputs": [],
   "source": [
    "def twos_complement(bin_num, w, f):\n",
    "    # Perform 2's complement on the binary number\n",
    "    flipped = ''\n",
    "    for bit in bin_num:\n",
    "        flipped += '0' if bit == '1' else '1'\n",
    "    comp_num = int(flipped, 2) + 1\n",
    "\n",
    "    return bin(comp_num)[2:].zfill(len(bin_num))\n",
    "\n",
    "def fixed_point_to_float(bin_num, w=16, f=14):\n",
    "        # Check if the number is negative\n",
    "    sign_bit = int(bin_num[0])\n",
    "    if sign_bit:\n",
    "        bin_num = twos_complement(bin_num, w, f)\n",
    "\n",
    "    # Split the binary number into integer and fractional parts\n",
    "    if f > 0:\n",
    "        if f == w:\n",
    "            float_num = int(bin_num, 2) / 2**f\n",
    "        else:\n",
    "            int_part = int(bin_num[:-f], 2)\n",
    "            frac_part = int(bin_num[-f:], 2) / 2**f\n",
    "            float_num = int_part + frac_part\n",
    "    else:\n",
    "        int_part = int(bin_num, 2)\n",
    "        float_num = int_part\n",
    "\n",
    "    # Apply the sign to the floating point number if it was negative\n",
    "    if sign_bit:\n",
    "        float_num = -float_num\n",
    "\n",
    "    return float_num\n",
    "\n",
    "def hex_to_fixed_point_decimal(hex_value, w, f):\n",
    "    binary_value = bin(int(hex_value, 16))[2:]\n",
    "\n",
    "    # # Determine the sign bit\n",
    "    binary_value = binary_value.zfill(w)\n",
    "\n",
    "    # return decimal_value\n",
    "    return fixed_point_to_float(binary_value, w, f)"
   ]
  },
  {
   "cell_type": "markdown",
   "metadata": {},
   "source": [
    "# **Data Preparation**"
   ]
  },
  {
   "cell_type": "code",
   "execution_count": 5,
   "metadata": {},
   "outputs": [],
   "source": [
    "LETTERS = {'A': 0, 'B': 1, 'C': 2, 0: 'A', 1: 'B', 2: 'C'}"
   ]
  },
  {
   "cell_type": "code",
   "execution_count": 6,
   "metadata": {},
   "outputs": [],
   "source": [
    "IMAGE_SIZE = 28"
   ]
  },
  {
   "cell_type": "code",
   "execution_count": 7,
   "metadata": {},
   "outputs": [],
   "source": [
    "images = np.load(\"images.npy\")\n",
    "labels = np.load(\"labels.npy\")"
   ]
  },
  {
   "cell_type": "code",
   "execution_count": 8,
   "metadata": {},
   "outputs": [],
   "source": [
    "x_train, x_test, y_train, y_test = train_test_split(images, labels, test_size=0.2, random_state=42)"
   ]
  },
  {
   "cell_type": "code",
   "execution_count": 9,
   "metadata": {},
   "outputs": [],
   "source": [
    "y_train = to_categorical(y_train)\n",
    "y_test = to_categorical(y_test)"
   ]
  },
  {
   "cell_type": "code",
   "execution_count": 10,
   "metadata": {},
   "outputs": [],
   "source": [
    "def resize_images(images, new_size=(28, 28)):\n",
    "    resized_images = []\n",
    "    for img in images:\n",
    "        resized_img = cv2.resize(img, new_size)\n",
    "        resized_images.append(resized_img)\n",
    "    return np.array(resized_images)"
   ]
  },
  {
   "cell_type": "code",
   "execution_count": 11,
   "metadata": {},
   "outputs": [],
   "source": [
    "x_train = resize_images(x_train, (IMAGE_SIZE, IMAGE_SIZE))\n",
    "x_test = resize_images(x_test, (IMAGE_SIZE, IMAGE_SIZE))"
   ]
  },
  {
   "cell_type": "code",
   "execution_count": 12,
   "metadata": {},
   "outputs": [
    {
     "data": {
      "image/png": "[encoded data removed]",
      "text/plain": [
       "<Figure size 400x400 with 10 Axes>"
      ]
     },
     "metadata": {},
     "output_type": "display_data"
    }
   ],
   "source": [
    "plt.figure(figsize=(4, 4))\n",
    "for i in range(10):\n",
    "    plt.subplot(2, 5, i + 1)\n",
    "    plt.imshow(x_test[i], cmap='gray')\n",
    "    plt.axis('off')\n",
    "\n",
    "plt.tight_layout()\n",
    "plt.show()"
   ]
  },
  {
   "cell_type": "code",
   "execution_count": 13,
   "metadata": {},
   "outputs": [
    {
     "name": "stdout",
     "output_type": "stream",
     "text": [
      "(126985, 196)\n",
      "(31747, 196)\n"
     ]
    }
   ],
   "source": [
    "x_train = x_train.reshape((len(x_train), np.prod(x_train.shape[1:])))\n",
    "x_test = x_test.reshape((len(x_test), np.prod(x_test.shape[1:])))\n",
    "print(x_train.shape)\n",
    "print(x_test.shape)"
   ]
  },
  {
   "cell_type": "code",
   "execution_count": null,
   "metadata": {},
   "outputs": [],
   "source": [
    "model = None #create the model"
   ]
  },
  {
   "cell_type": "markdown",
   "metadata": {},
   "source": [
    "# **Save Weights as Fixed Point**"
   ]
  },
  {
   "cell_type": "code",
   "execution_count": null,
   "metadata": {},
   "outputs": [],
   "source": [
    "y1 = None #replace it with the output of the first layer (after its activation layer)"
   ]
  },
  {
   "cell_type": "code",
   "execution_count": 22,
   "metadata": {},
   "outputs": [],
   "source": [
    "WriteFixPToFile(\"input.txt\", y1[0][0], 9, 7)"
   ]
  },
  {
   "cell_type": "code",
   "execution_count": 83,
   "metadata": {},
   "outputs": [],
   "source": [
    "if not os.path.exists('weights'):\n",
    "    os.mkdir('weights')"
   ]
  },
  {
   "cell_type": "code",
   "execution_count": 24,
   "metadata": {},
   "outputs": [],
   "source": [
    "count = 0\n",
    "for layer in model.layers:\n",
    "    weights = layer.get_weights()        \n",
    "    if weights and len(weights) > 0:\n",
    "        count += 1\n",
    "        w_per_neuron = weights[0].shape[0]\n",
    "        w = np.array(layer.kernel_quantizer(weights[0])).transpose().reshape(-1,)\n",
    "        b = np.array(layer.kernel_quantizer(weights[1])).reshape(-1,)\n",
    "        separate_weights = [np.concatenate((w[c:c+w_per_neuron], b[int(c/w_per_neuron):int(c/w_per_neuron)+1]), axis=0) for c in range(0, len(w), w_per_neuron)]\n",
    "        \n",
    "        #pay attention to this part \n",
    "        width, f = (17, 14) if layer.name == 'last' else (9, 7) #pay attention to this part \n",
    "        for n, s in enumerate(separate_weights):\n",
    "            WriteFixPToFile(f\"weights/layer_{count}_{n + 1}_w.mem\", s, width, f)"
   ]
  },
  {
   "cell_type": "markdown",
   "metadata": {},
   "source": [
    "##############################################################################"
   ]
  }
 ],
 "metadata": {
  "kernelspec": {
   "display_name": "Python 3",
   "language": "python",
   "name": "python3"
  },
  "language_info": {
   "codemirror_mode": {
    "name": "ipython",
    "version": 3
   },
   "file_extension": ".py",
   "mimetype": "text/x-python",
   "name": "python",
   "nbconvert_exporter": "python",
   "pygments_lexer": "ipython3",
   "version": "3.8.17"
  },
  "orig_nbformat": 4
 },
 "nbformat": 4,
 "nbformat_minor": 2
}
