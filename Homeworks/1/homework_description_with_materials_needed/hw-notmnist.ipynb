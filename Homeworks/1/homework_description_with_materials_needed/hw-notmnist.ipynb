{
 "cells": [
  {
   "cell_type": "code",
   "execution_count": 1,
   "metadata": {},
   "outputs": [
    {
     "name": "stderr",
     "output_type": "stream",
     "text": [
      "2023-10-04 12:24:16.483096: I tensorflow/core/platform/cpu_feature_guard.cc:193] This TensorFlow binary is optimized with oneAPI Deep Neural Network Library (oneDNN) to use the following CPU instructions in performance-critical operations:  AVX2 AVX_VNNI FMA\n",
      "To enable them in other operations, rebuild TensorFlow with the appropriate compiler flags.\n",
      "2023-10-04 12:24:16.681576: I tensorflow/core/util/util.cc:169] oneDNN custom operations are on. You may see slightly different numerical results due to floating-point round-off errors from different computation orders. To turn them off, set the environment variable `TF_ENABLE_ONEDNN_OPTS=0`.\n",
      "2023-10-04 12:24:16.771456: E tensorflow/stream_executor/cuda/cuda_blas.cc:2981] Unable to register cuBLAS factory: Attempting to register factory for plugin cuBLAS when one has already been registered\n",
      "2023-10-04 12:24:17.503059: W tensorflow/stream_executor/platform/default/dso_loader.cc:64] Could not load dynamic library 'libnvinfer.so.7'; dlerror: libnvinfer.so.7: cannot open shared object file: No such file or directory; LD_LIBRARY_PATH: /home/mahdi/Documents/brochrue/project/hls4ml/env-python3.8/lib/python3.8/site-packages/nvidia/cudnn/lib:/home/mahdi/Documents/brochrue/project/hls4ml/env-python3.8/lib/:\n",
      "2023-10-04 12:24:17.503153: W tensorflow/stream_executor/platform/default/dso_loader.cc:64] Could not load dynamic library 'libnvinfer_plugin.so.7'; dlerror: libnvinfer_plugin.so.7: cannot open shared object file: No such file or directory; LD_LIBRARY_PATH: /home/mahdi/Documents/brochrue/project/hls4ml/env-python3.8/lib/python3.8/site-packages/nvidia/cudnn/lib:/home/mahdi/Documents/brochrue/project/hls4ml/env-python3.8/lib/:\n",
      "2023-10-04 12:24:17.503160: W tensorflow/compiler/tf2tensorrt/utils/py_utils.cc:38] TF-TRT Warning: Cannot dlopen some TensorRT libraries. If you would like to use Nvidia GPU with TensorRT, please make sure the missing libraries mentioned above are installed properly.\n"
     ]
    }
   ],
   "source": [
    "import keras\n",
    "import tensorflow as tf\n",
    "from keras import layers\n",
    "from keras.datasets import mnist\n",
    "import numpy as np\n",
    "from qkeras.qlayers import QDense, QActivation\n",
    "from qkeras.quantizers import quantized_bits, quantized_relu\n",
    "import cv2\n",
    "from sklearn.model_selection import train_test_split\n",
    "import matplotlib.pyplot as plt\n",
    "import os\n",
    "from matplotlib.pyplot import imread"
   ]
  },
  {
   "cell_type": "markdown",
   "metadata": {},
   "source": [
    "# **Utils**"
   ]
  },
  {
   "cell_type": "code",
   "execution_count": 2,
   "metadata": {},
   "outputs": [],
   "source": [
    "def fp_quantize(x, w, f):\n",
    "    \"\"\"\n",
    "    fixed point post quantization.\n",
    "    Args:\n",
    "        x: floating point (can be list) 32 bit input\n",
    "        w: bit width of the target fixed point\n",
    "        f: fraction bit width of the target fixed point\n",
    "    Returns:\n",
    "        the desired fixed point quantized of the input x\n",
    "    \"\"\"\n",
    "    i = w - f\n",
    "    max = float(2 ** (i - 1) - 2 ** (-f))\n",
    "    min = float(-2 ** (i - 1))\n",
    "    n = float(2 ** f)\n",
    "    xx = np.floor(x * n + 0.5) / n\n",
    "    clipped = np.clip(xx, a_min=min, a_max=max)\n",
    "    return clipped"
   ]
  },
  {
   "cell_type": "code",
   "execution_count": 3,
   "metadata": {},
   "outputs": [],
   "source": [
    "def FPToHex(x, w = 8, f = 7):\n",
    "    \"\"\"\n",
    "    Converts a given Fixed point number to its Hex representation.\n",
    "    Args:\n",
    "        x: fixed point having w bits and f bits fraction input\n",
    "        w: bit width of the input\n",
    "        f: fraction bit width of the input\n",
    "    Returns:\n",
    "        Hex representation of input\n",
    "    \"\"\"\n",
    "    x_fix = x\n",
    "    x_fix = x_fix * pow(2, f)\n",
    "    x_fix = int(x_fix)\n",
    "    if(x_fix < 0):\n",
    "        binary = bin(x_fix+(1<<w))\n",
    "    else:\n",
    "        binary = bin(x_fix)\n",
    "    return hex(int(binary, 2))[2:]\n",
    "\n",
    "def WriteFixPToFile(file_name, data_fp, w = 8, f = 7, mode = \"w\"):\n",
    "    \"\"\"\n",
    "    Writes given Fixed point numbers specified by w bits width and f bits fraction to the given file name.\n",
    "    Args:\n",
    "        file_name: file name to save the output\n",
    "        data_fp: fixed point list having w bits and f bits fraction input\n",
    "        w: bit width of the input\n",
    "        f: fraction bit width of the input\n",
    "    Returns:\n",
    "        None\n",
    "    \"\"\"\n",
    "    with open(file_name, mode) as file:\n",
    "        for i in range(data_fp.shape[0]):\n",
    "            file.write(str(FPToHex(data_fp[i], w=w, f=f))+'\\n')"
   ]
  },
  {
   "cell_type": "markdown",
   "metadata": {},
   "source": [
    "Use below function if needed (like verifying outputs or debugging)."
   ]
  },
  {
   "cell_type": "code",
   "execution_count": 4,
   "metadata": {},
   "outputs": [],
   "source": [
    "def twos_complement(bin_num):\n",
    "    \"\"\"\n",
    "    calculates the 2's complement of the given binary number.\n",
    "    Args:\n",
    "        bin_num: binary number in string format\n",
    "    Returns:\n",
    "        the binary representation after performing 2's complement\n",
    "    \"\"\"\n",
    "\n",
    "    # Perform 2's complement on the binary number\n",
    "    flipped = ''\n",
    "    for bit in bin_num:\n",
    "        flipped += '0' if bit == '1' else '1'\n",
    "    comp_num = int(flipped, 2) + 1\n",
    "\n",
    "    return bin(comp_num)[2:].zfill(len(bin_num))\n",
    "\n",
    "def fixed_point_to_float(bin_num, w=16, f=14):\n",
    "    \"\"\"\n",
    "    Converts a fixed point number given in binary representation to its decimal floating point.\n",
    "    Args:\n",
    "        bin_num: binary number in string format\n",
    "        w: bit width of the input\n",
    "        f: fraction bit width of the input\n",
    "    Returns:\n",
    "        decimal floating point\n",
    "    \"\"\"\n",
    "        # Check if the number is negative\n",
    "    sign_bit = int(bin_num[0])\n",
    "    if sign_bit:\n",
    "        bin_num = twos_complement(bin_num, w, f)\n",
    "\n",
    "    # Split the binary number into integer and fractional parts\n",
    "    if f > 0:\n",
    "        if f == w:\n",
    "            float_num = int(bin_num, 2) / 2**f\n",
    "        else:\n",
    "            int_part = int(bin_num[:-f], 2)\n",
    "            frac_part = int(bin_num[-f:], 2) / 2**f\n",
    "            float_num = int_part + frac_part\n",
    "    else:\n",
    "        int_part = int(bin_num, 2)\n",
    "        float_num = int_part\n",
    "\n",
    "    # Apply the sign to the floating point number if it was negative\n",
    "    if sign_bit:\n",
    "        float_num = -float_num\n",
    "\n",
    "    return float_num\n",
    "\n",
    "def hex_to_fixed_point_decimal(hex_value, w, f):\n",
    "    \"\"\"\n",
    "    Converts a fixed point number given in hex representation to its decimal floating point.\n",
    "    Args:\n",
    "        hex_value: hex number in string format\n",
    "        w: bit width of the input\n",
    "        f: fraction bit width of the input\n",
    "    Returns:\n",
    "        decimal floating point\n",
    "    \"\"\"\n",
    "    binary_value = bin(int(hex_value, 16))[2:]\n",
    "\n",
    "    # # Determine the sign bit\n",
    "    binary_value = binary_value.zfill(w)\n",
    "\n",
    "    # return decimal_value\n",
    "    return fixed_point_to_float(binary_value, w, f)"
   ]
  },
  {
   "cell_type": "markdown",
   "metadata": {},
   "source": [
    "# **Preprocess**"
   ]
  },
  {
   "cell_type": "code",
   "execution_count": 5,
   "metadata": {},
   "outputs": [
    {
     "name": "stdout",
     "output_type": "stream",
     "text": [
      "264560\n"
     ]
    },
    {
     "data": {
      "text/plain": [
       "['./notMNIST_large/D/QmVsbEdvdGhpYyBCbGsgQlQgQmxhY2sudHRm.png',\n",
       " './notMNIST_large/D/QmVhckJ1dHRlVCBJdGFsaWMudHRm.png',\n",
       " './notMNIST_large/D/Q2hlbHNleSBJdGFsaWMudHRm.png']"
      ]
     },
     "execution_count": 5,
     "metadata": {},
     "output_type": "execute_result"
    }
   ],
   "source": [
    "path = './notMNIST_large/'\n",
    "\n",
    "fnames = []\n",
    "for root, dir, files in os.walk(path):\n",
    "    for f in files:\n",
    "        if f.endswith('.png'):\n",
    "            fnames.append(os.path.join(root, f))\n",
    "\n",
    "print(len(fnames))\n",
    "fnames[:3]"
   ]
  },
  {
   "cell_type": "code",
   "execution_count": 6,
   "metadata": {},
   "outputs": [
    {
     "name": "stdout",
     "output_type": "stream",
     "text": [
      "Could not read: ./notMNIST_large/D/VHJhbnNpdCBCb2xkLnR0Zg==.png : not a PNG file - it's ok, skipping.\n",
      "Could not read: ./notMNIST_large/A/SG90IE11c3RhcmQgQlROIFBvc3Rlci50dGY=.png : not a PNG file - it's ok, skipping.\n",
      "Could not read: ./notMNIST_large/A/Um9tYW5hIEJvbGQucGZi.png : not a PNG file - it's ok, skipping.\n",
      "Could not read: ./notMNIST_large/A/RnJlaWdodERpc3BCb29rSXRhbGljLnR0Zg==.png : not a PNG file - it's ok, skipping.\n"
     ]
    }
   ],
   "source": [
    "images = []\n",
    "for f in fnames:\n",
    "    try:\n",
    "        img = imread(str(f))\n",
    "        images.append(img)\n",
    "    except Exception as e:\n",
    "        print('Could not read:', f, ':', e, '- it\\'s ok, skipping.')\n",
    "\n",
    "images = np.array(images)"
   ]
  },
  {
   "cell_type": "code",
   "execution_count": 7,
   "metadata": {},
   "outputs": [
    {
     "data": {
      "text/plain": [
       "264556"
      ]
     },
     "execution_count": 7,
     "metadata": {},
     "output_type": "execute_result"
    }
   ],
   "source": [
    "len(images)"
   ]
  },
  {
   "cell_type": "code",
   "execution_count": 11,
   "metadata": {},
   "outputs": [],
   "source": [
    "LATENT_SAPCE_DIM = 16\n",
    "LATENT_SPACE_WIDTH = 4\n",
    "LATENT_SAPCE_HEIGHT = 4\n",
    "IMAGE_SIZE = 28"
   ]
  },
  {
   "cell_type": "code",
   "execution_count": 8,
   "metadata": {},
   "outputs": [],
   "source": [
    "x_train, x_test = train_test_split(images, test_size=0.2, random_state=42)"
   ]
  },
  {
   "cell_type": "code",
   "execution_count": 9,
   "metadata": {},
   "outputs": [],
   "source": [
    "x_train = x_train.astype('float32') / 255.\n",
    "x_test = x_test.astype('float32') / 255."
   ]
  },
  {
   "cell_type": "code",
   "execution_count": 10,
   "metadata": {},
   "outputs": [],
   "source": [
    "def resize_mnist_images(images, new_size=(28, 28)):\n",
    "    \"\"\"\n",
    "    resizes a list of images.\n",
    "    Args:\n",
    "        images: list of images\n",
    "        new_size: the new desired size\n",
    "    Returns:\n",
    "        list of resized images\n",
    "    \"\"\"\n",
    "    resized_images = []\n",
    "    for img in images:\n",
    "        resized_img = cv2.resize(img, new_size)\n",
    "        resized_images.append(resized_img)\n",
    "    return np.array(resized_images)"
   ]
  }
 ],
 "metadata": {
  "kernelspec": {
   "display_name": "Python 3",
   "language": "python",
   "name": "python3"
  },
  "language_info": {
   "codemirror_mode": {
    "name": "ipython",
    "version": 3
   },
   "file_extension": ".py",
   "mimetype": "text/x-python",
   "name": "python",
   "nbconvert_exporter": "python",
   "pygments_lexer": "ipython3",
   "version": "3.8.17"
  },
  "orig_nbformat": 4
 },
 "nbformat": 4,
 "nbformat_minor": 2
}
